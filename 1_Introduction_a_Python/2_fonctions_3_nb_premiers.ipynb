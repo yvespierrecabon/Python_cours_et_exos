{
 "cells": [
  {
   "cell_type": "markdown",
   "id": "f491c3d5",
   "metadata": {},
   "source": [
    "### Nombres premiers"
   ]
  },
  {
   "cell_type": "code",
   "execution_count": 1,
   "id": "3b302b12",
   "metadata": {},
   "outputs": [
    {
     "name": "stdout",
     "output_type": "stream",
     "text": [
      "0, 1, 2, 3, 5, 7, 11, 13, 17, 19, 23, 29, 31, 37, 41, 43, 47, 53, 59, 61, 67, 71, 73, 79, 83, 89, 97, 101, 103, 107, 109, 113, 127, 131, 137, 139, 149, 151, 157, 163, 167, 173, 179, 181, 191, 193, 197, 199, 211, 223, 227, 229, 233, 239, 241, 251, 257, 263, 269, 271, 277, 281, 283, 293, 307, 311, 313, 317, 331, 337, 347, 349, 353, 359, 367, 373, 379, 383, 389, 397, 401, 409, 419, 421, 431, 433, 439, 443, 449, 457, 461, 463, 467, 479, 487, 491, 499, 503, 509, 521, 523, 541, 547, 557, 563, 569, 571, 577, 587, 593, 599, 601, 607, 613, 617, 619, 631, 641, 643, 647, 653, 659, 661, 673, 677, 683, 691, 701, 709, 719, 727, 733, 739, 743, 751, 757, 761, 769, 773, 787, 797, 809, 811, 821, 823, 827, 829, 839, 853, 857, 859, 863, 877, 881, 883, 887, 907, 911, 919, 929, 937, 941, 947, 953, 967, 971, 977, 983, 991, 997, "
     ]
    }
   ],
   "source": [
    "def is_prime(n:int):\n",
    "    res = True\n",
    "    for i in range(2,n//2+1):\n",
    "        if n%i==0:\n",
    "            res = False\n",
    "    return res\n",
    "\n",
    "\n",
    "for i in range(1000):\n",
    "    if is_prime(i):\n",
    "        # print(i,'est premier')\n",
    "        print(i, end=', ')\n",
    "    # else:\n",
    "        # print(i,'n\\'est pas premier')"
   ]
  },
  {
   "cell_type": "markdown",
   "id": "ac24f24f",
   "metadata": {},
   "source": [
    "### jeu du \"Trouve le bon nombre ! \""
   ]
  },
  {
   "cell_type": "code",
   "execution_count": null,
   "id": "0be7775c",
   "metadata": {},
   "outputs": [
    {
     "name": "stdout",
     "output_type": "stream",
     "text": [
      "Trouvez un nombre entre  0 et 1000 en moins de  13 essais\n"
     ]
    }
   ],
   "source": [
    "from random import randint\n",
    "import math\n",
    "# choix du nombre à trouver\n",
    "min = 0\n",
    "max = 1000\n",
    "secret_number = randint(min,max)\n",
    "\n",
    "win = False\n",
    "number_of_shots= 0\n",
    "max_number_of_shots = int(4*math.log10(max - min))\n",
    "print('Trouvez un nombre entre ',min,'et',max,'en moins de ',max_number_of_shots+1,'essais')\n",
    "while not win:\n",
    "    # choix du nombre par le joueur\n",
    "    selected_string_number = ''\n",
    "    while(not (selected_string_number.isnumeric() and min<=int(selected_string_number)<=max)):\n",
    "        selected_string_number = input('Entrez un nombre entre '+str(min)+' et '+str(max)+':')\n",
    "    selected_number = int(selected_string_number)\n",
    "    # print('chosen_number : ',selected_number)\n",
    "    number_of_shots +=1\n",
    "    if selected_number == secret_number:\n",
    "        print(secret_number,\"trouvé. C'est gagné en \",number_of_shots,\" coups !!!\")\n",
    "        win = True\n",
    "    else:\n",
    "        if number_of_shots == max_number_of_shots:\n",
    "            print(\"C'est perdu après\",max_number_of_shots,\"essais\")\n",
    "            print(\"Le nombre à trouver était\",secret_number)\n",
    "        else:\n",
    "            if selected_number < secret_number:\n",
    "                print(selected_number,'est trop petit ...')\n",
    "            else:\n",
    "                print(selected_number,'est trop grand ...')\n",
    "            print('Il reste',max_number_of_shots - number_of_shots,\"essais\")\n",
    "    "
   ]
  },
  {
   "cell_type": "code",
   "execution_count": null,
   "id": "aba9382a",
   "metadata": {},
   "outputs": [],
   "source": []
  },
  {
   "cell_type": "code",
   "execution_count": null,
   "id": "5ab6fd3b",
   "metadata": {},
   "outputs": [],
   "source": []
  }
 ],
 "metadata": {
  "kernelspec": {
   "display_name": "Python 3 (ipykernel)",
   "language": "python",
   "name": "python3"
  },
  "language_info": {
   "codemirror_mode": {
    "name": "ipython",
    "version": 3
   },
   "file_extension": ".py",
   "mimetype": "text/x-python",
   "name": "python",
   "nbconvert_exporter": "python",
   "pygments_lexer": "ipython3",
   "version": "3.8.11"
  }
 },
 "nbformat": 4,
 "nbformat_minor": 5
}
