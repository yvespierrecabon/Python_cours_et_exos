{
 "cells": [
  {
   "cell_type": "code",
   "execution_count": 1,
   "id": "d2e4007d",
   "metadata": {},
   "outputs": [
    {
     "name": "stdout",
     "output_type": "stream",
     "text": [
      "['A', 'B', 'C', 'D', 'E', 'F']\n",
      "['A', 'C', 'D', 'B']\n"
     ]
    }
   ],
   "source": [
    "G = {'A':['B','C','D'],\n",
    "     'B':['A','E','F'],\n",
    "     'C':['A'],\n",
    "     'D':['A'],\n",
    "     'E':['B','F'],\n",
    "     'F':['B','E']}\n",
    "def parcours_en_largeur_dabord(G,s):\n",
    "    noir = []\n",
    "    file = []\n",
    "    liste = []\n",
    "    noir.append(s)\n",
    "    file.append(s)\n",
    "    while len(file)>0:\n",
    "        u = file.pop(0)\n",
    "        liste.append(u)\n",
    "        for v in G[u]:\n",
    "            if v not in noir:\n",
    "                noir.append(v)\n",
    "                file.append(v)\n",
    "    return liste\n",
    "print(parcours_en_largeur_dabord(G,'A'))\n",
    "\n",
    "\n",
    "\n",
    "G = {'A':['B','C'],\n",
    "     'B':['A'],\n",
    "     'C':['A','D'],\n",
    "     'D':['C']}\n",
    "def parcours_en_profondeur_dabord(G,s):\n",
    "    noir = []\n",
    "    pile = []\n",
    "    liste = []\n",
    "    noir.append(s)\n",
    "    pile.append(s)\n",
    "    while len(pile)>0:\n",
    "        u = pile.pop()\n",
    "        liste.append(u)\n",
    "        for v in G[u]:\n",
    "            if v not in noir:\n",
    "                noir.append(v)\n",
    "                pile.append(v)\n",
    "    return liste\n",
    "print(parcours_en_profondeur_dabord(G,'A'))"
   ]
  },
  {
   "cell_type": "code",
   "execution_count": 115,
   "id": "f5c3cad6",
   "metadata": {},
   "outputs": [
    {
     "name": "stdout",
     "output_type": "stream",
     "text": [
      "[(0, 1, {'color': 'pink', 'styl': 'solid'}), (0, 2, {'color': 'pink', 'styl': 'solid'}), (0, 3, {'color': 'pink', 'styl': 'solid'}), (1, 0, {'color': 'pink', 'styl': 'solid'}), (1, 4, {'color': 'pink', 'styl': 'solid'}), (1, 5, {'color': 'pink', 'styl': 'solid'}), (2, 0, {'color': 'pink', 'styl': 'solid'}), (3, 0, {'color': 'pink', 'styl': 'solid'}), (4, 1, {'color': 'pink', 'styl': 'solid'}), (4, 5, {'color': 'pink', 'styl': 'solid'}), (5, 1, {'color': 'pink', 'styl': 'solid'}), (5, 4, {'color': 'pink', 'styl': 'solid'})]\n"
     ]
    }
   ],
   "source": [
    "import matplotlib.pyplot as plt\n",
    "import networkx as nx\n",
    "import numpy as np\n",
    "\n",
    "G_ = {'A':['B','C','D'],\n",
    "     'B':['A','E','F'],\n",
    "     'C':['A'],\n",
    "     'D':['A'],\n",
    "     'E':['B','F'],\n",
    "     'F':['B','E']}\n",
    "G__ = {'A':0,\n",
    "     'B':1,\n",
    "     'C':2,\n",
    "     'D':3,\n",
    "     'E':4,\n",
    "     'F':5}\n",
    "G = nx.Graph()\n",
    "# definition des noeuds\n",
    "node_list = []\n",
    "for n in G_:\n",
    "    node_list.append((G__[n],{\"label\":n,\"col\":\"lightblue\"}))\n",
    "    \n",
    "G.add_nodes_from(node_list)\n",
    "# G.add_node(0,label='A',col='pink')\n",
    "\n",
    "# definition des aretes\n",
    "edge_list = []\n",
    "for n in G_:\n",
    "    edge_list+=[(G__[n],G__[a],{\"color\":\"pink\",\"styl\":'solid'}) for a in G_[n]]\n",
    "G.add_edges_from(edge_list)\n",
    "# G.add_edge(0,1,weight=6,styl='dashed')\n",
    "\n",
    "print(edge_list)"
   ]
  },
  {
   "cell_type": "code",
   "execution_count": 116,
   "id": "db5c0c81",
   "metadata": {},
   "outputs": [
    {
     "data": {
      "text/plain": [
       "{0: 'lightblue',\n",
       " 1: 'lightblue',\n",
       " 2: 'lightblue',\n",
       " 3: 'lightblue',\n",
       " 4: 'lightblue',\n",
       " 5: 'lightblue'}"
      ]
     },
     "execution_count": 116,
     "metadata": {},
     "output_type": "execute_result"
    }
   ],
   "source": [
    "liste = list(G.nodes(data='col'))\n",
    "colorNodes = {}\n",
    "for noeud in liste:\n",
    "    colorNodes[noeud[0]]=noeud[1]\n",
    "colorNodes"
   ]
  },
  {
   "cell_type": "code",
   "execution_count": 117,
   "id": "d7847d33",
   "metadata": {},
   "outputs": [
    {
     "data": {
      "text/plain": [
       "['lightblue', 'lightblue', 'lightblue', 'lightblue', 'lightblue', 'lightblue']"
      ]
     },
     "execution_count": 117,
     "metadata": {},
     "output_type": "execute_result"
    }
   ],
   "source": [
    "colorList=[colorNodes[node] for node in colorNodes]\n",
    "colorList"
   ]
  },
  {
   "cell_type": "code",
   "execution_count": 118,
   "id": "9968559e",
   "metadata": {},
   "outputs": [
    {
     "name": "stdout",
     "output_type": "stream",
     "text": [
      "{0: 'A', 1: 'B', 2: 'C', 3: 'D', 4: 'E', 5: 'F'}\n"
     ]
    }
   ],
   "source": [
    "liste = list(G.nodes(data='label'))\n",
    "labels_nodes = {}\n",
    "for noeud in liste:\n",
    "    labels_nodes[noeud[0]]=noeud[1]\n",
    "print(labels_nodes)"
   ]
  },
  {
   "cell_type": "code",
   "execution_count": 119,
   "id": "580b5403",
   "metadata": {},
   "outputs": [
    {
     "data": {
      "text/plain": [
       "{(0, 1): '', (0, 2): '', (0, 3): '', (1, 4): '', (1, 5): '', (4, 5): ''}"
      ]
     },
     "execution_count": 119,
     "metadata": {},
     "output_type": "execute_result"
    }
   ],
   "source": [
    "# labels_edges = {edge:G.edges[edge]['weight'] for edge in G.edges}\n",
    "labels_edges = {edge:'' for edge in G.edges}\n",
    "labels_edges"
   ]
  },
  {
   "cell_type": "code",
   "execution_count": 120,
   "id": "2c6b6c32",
   "metadata": {},
   "outputs": [
    {
     "data": {
      "text/plain": [
       "{(0, 1): 'solid',\n",
       " (0, 2): 'solid',\n",
       " (0, 3): 'solid',\n",
       " (1, 4): 'solid',\n",
       " (1, 5): 'solid',\n",
       " (4, 5): 'solid'}"
      ]
     },
     "execution_count": 120,
     "metadata": {},
     "output_type": "execute_result"
    }
   ],
   "source": [
    "liste = list(G.edges(data='styl'))\n",
    "edges_style = {}\n",
    "edges_style = {edge:G.edges[edge]['styl'] for edge in G.edges}\n",
    "edges_style"
   ]
  },
  {
   "cell_type": "code",
   "execution_count": 121,
   "id": "505e10b6",
   "metadata": {},
   "outputs": [
    {
     "data": {
      "text/plain": [
       "['solid', 'solid', 'solid', 'solid', 'solid', 'solid']"
      ]
     },
     "execution_count": 121,
     "metadata": {},
     "output_type": "execute_result"
    }
   ],
   "source": [
    "edg_style = [edges_style[node] for node in edges_style]\n",
    "edg_style"
   ]
  },
  {
   "cell_type": "code",
   "execution_count": 126,
   "id": "d8728712",
   "metadata": {},
   "outputs": [
    {
     "data": {
      "image/png": "[encoded data removed]",
      "text/plain": [
       "<Figure size 640x480 with 1 Axes>"
      ]
     },
     "metadata": {},
     "output_type": "display_data"
    }
   ],
   "source": [
    "# positions for all nodes\n",
    "pos = nx.spring_layout(G)  \n",
    " \n",
    "# nodes\n",
    "nx.draw_networkx_nodes(G, pos, node_size=700,node_color=colorList,alpha=0.9)\n",
    "               \n",
    "# labels\n",
    "nx.draw_networkx_labels(G, pos, labels=labels_nodes,font_size=20, font_color='black', font_family='sans-serif')\n",
    "\n",
    "# edges\n",
    "nx.draw_networkx_edges(G, pos,width=1, edge_color='green')\n",
    "nx.draw_networkx_edge_labels(G, pos, edge_labels=labels_edges,  font_color='red')\n",
    "\n",
    "\n",
    "plt.axis('off')\n",
    "plt.savefig('fig1.png')\n",
    "plt.show()"
   ]
  },
  {
   "cell_type": "code",
   "execution_count": 123,
   "id": "69a09b92",
   "metadata": {},
   "outputs": [
    {
     "name": "stdout",
     "output_type": "stream",
     "text": [
      "[(0, 1), (0, 2), (0, 3), (1, 4), (1, 5), (4, 5)]\n"
     ]
    }
   ],
   "source": [
    "print(G.edges)"
   ]
  },
  {
   "cell_type": "code",
   "execution_count": 21,
   "id": "3b62cc33",
   "metadata": {},
   "outputs": [
    {
     "name": "stdout",
     "output_type": "stream",
     "text": [
      "nb de noeuds 6\n",
      "nb d'arètes 7\n",
      "[[0 0 0 0 0 0]\n",
      " [0 0 0 0 0 0]\n",
      " [0 0 0 0 0 0]\n",
      " [0 0 0 0 0 0]\n",
      " [0 0 0 0 0 0]\n",
      " [0 0 0 0 0 0]]\n",
      "[(0, 1), (0, 2), (0, 3), (1, 3), (1, 4), (1, 5), (4, 5)]\n",
      "[[0 1 1 1 0 0]\n",
      " [1 0 0 1 1 1]\n",
      " [1 0 0 0 0 0]\n",
      " [1 1 0 0 0 0]\n",
      " [0 1 0 0 0 1]\n",
      " [0 1 0 0 1 0]]\n",
      "A\n",
      "B\n",
      "C\n",
      "D\n",
      "E\n",
      "F\n"
     ]
    }
   ],
   "source": [
    "# nb de noeuds\n",
    "print(\"nb de noeuds\",len(G.nodes))\n",
    "# nb d'arètes\n",
    "print(\"nb d'arètes\",len(G.edges))\n",
    "MA = np.array([[0 for _ in range(len(G.nodes))] for _ in range(len(G.nodes))])\n",
    "print(MA)\n",
    "print(G.edges)\n",
    "for e in G.edges:\n",
    "    MA[e[0],e[1]] = 1\n",
    "    MA[e[1], e[0]] = 1\n",
    "print(MA)\n",
    "\n",
    "# Parcours en largeur d'abord\n",
    "\n",
    "def parcours_largeur_dabord(G:nx.Graph, noeud_origine:int):\n",
    "    file = []\n",
    "    graphe = [\"blanc\" for i in range(len(G.nodes))]\n",
    "    graphe[noeud_origine] = \"noir\"\n",
    "    file.append(noeud_origine)\n",
    "    while len(file) >0:\n",
    "        noeud_courant = file.pop(0)\n",
    "        print(G.nodes(data='label')[noeud_courant])\n",
    "        n_a = [y for [x,y] in G.edges if x == noeud_courant]\n",
    "        for noeud_adjacent in n_a:\n",
    "            if graphe[noeud_adjacent] != \"noir\":\n",
    "                graphe[noeud_adjacent] = \"noir\"\n",
    "                file.append(noeud_adjacent)\n",
    "\n",
    "\n",
    "parcours_largeur_dabord(G, 0)"
   ]
  },
  {
   "cell_type": "code",
   "execution_count": null,
   "id": "f7a16fbb",
   "metadata": {},
   "outputs": [],
   "source": []
  }
 ],
 "metadata": {
  "kernelspec": {
   "display_name": "Python 3 (ipykernel)",
   "language": "python",
   "name": "python3"
  },
  "language_info": {
   "codemirror_mode": {
    "name": "ipython",
    "version": 3
   },
   "file_extension": ".py",
   "mimetype": "text/x-python",
   "name": "python",
   "nbconvert_exporter": "python",
   "pygments_lexer": "ipython3",
   "version": "3.8.11"
  }
 },
 "nbformat": 4,
 "nbformat_minor": 5
}
