{
 "cells": [
  {
   "cell_type": "code",
   "execution_count": null,
   "id": "a81707f2-1d9c-461d-87e5-1ccdafb07715",
   "metadata": {},
   "outputs": [],
   "source": [
    "class Point:\n",
    "    def __init__(self,x,y, nom):\n",
    "        self.__x = x*1.0\n",
    "        self.__y = y*1.0\n",
    "        self.__name=nom\n",
    "        self._poids=6.0\n",
    "        self._color='gold'\n",
    "    \n",
    "    def x(self):\n",
    "        return self.__x\n",
    "        \n",
    "    \n"
   ]
  }
 ],
 "metadata": {
  "kernelspec": {
   "display_name": "Python 3 (ipykernel)",
   "language": "python",
   "name": "python3"
  },
  "language_info": {
   "codemirror_mode": {
    "name": "ipython",
    "version": 3
   },
   "file_extension": ".py",
   "mimetype": "text/x-python",
   "name": "python",
   "nbconvert_exporter": "python",
   "pygments_lexer": "ipython3",
   "version": "3.12.1"
  }
 },
 "nbformat": 4,
 "nbformat_minor": 5
}
