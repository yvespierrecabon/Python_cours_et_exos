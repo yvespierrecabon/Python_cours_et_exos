{
 "cells": [
  {
   "cell_type": "markdown",
   "id": "85c4bbb6",
   "metadata": {},
   "source": [
    "## Random, mouvement brownien"
   ]
  },
  {
   "cell_type": "code",
   "execution_count": 3,
   "id": "2e285224",
   "metadata": {},
   "outputs": [],
   "source": [
    "from random import randint\n",
    "from turtle import *"
   ]
  },
  {
   "cell_type": "code",
   "execution_count": 4,
   "id": "30337ed7",
   "metadata": {},
   "outputs": [],
   "source": [
    "\n",
    "def dessiner_mouvement_brownien(nb_de_segments, longueur):\n",
    "    i = 0\n",
    "    while i < nb_de_segments:\n",
    "        forward(longueur + randint(-10,10))\n",
    "        left(randint(-180,180))\n",
    "        i +=1\n",
    "        pos = position()\n",
    "    exitonclick()\n",
    "dessiner_mouvement_brownien(20, 50)"
   ]
  },
  {
   "cell_type": "code",
   "execution_count": 6,
   "id": "02a34d50",
   "metadata": {},
   "outputs": [],
   "source": [
    "def tortue_dans_rectangle(pos, lenght, angle):\n",
    "    return (pos[0]+lenght < max_x or 90 <= angle <= 270) \\\n",
    "        and (pos[0]-lenght > min_x or \\\n",
    "             0 <= angle <= 90 or 270 <= angle <= 360)  \\\n",
    "        and (pos[1]+lenght < max_y or 180 <= angle <= 360 ) \\\n",
    "        and (pos[1]-lenght > min_y or 0 <= angle <= 180)\n",
    "\n",
    "def dessiner_mouvement_brownien_dans(nb_de_segments, longueur):\n",
    "    i = 0\n",
    "    j=0\n",
    "    while i < nb_de_segments:\n",
    "        j+=1\n",
    "        longueur_temp = longueur + randint(-30,30)\n",
    "        pos = position()\n",
    "        rotation = randint(0,360)\n",
    "        new_angle = (heading() + rotation) % 360\n",
    "        if tortue_dans_rectangle(pos, longueur_temp, new_angle):\n",
    "            # color(couleurs[i%len(couleurs)])\n",
    "            color(couleurs[int(len(couleurs)*(pos[0]-min_x)/(max_x - min_x))])\n",
    "            left(rotation)\n",
    "            forward(longueur_temp)\n",
    "            i +=1\n",
    "        else:\n",
    "            pass\n",
    "            # print(j, i, heading())\n",
    "\n",
    "couleurs = ('red','blue','green','black', \"orange\")\n",
    "speed(10)    \n",
    "width(2)\n",
    "min_x = -400\n",
    "max_x = 400\n",
    "min_y = -100\n",
    "max_y = 100\n",
    "up()\n",
    "setx(min_x)\n",
    "sety(min_y)\n",
    "down()\n",
    "forward(max_x - min_x)\n",
    "left(90)\n",
    "forward(max_y - min_y)\n",
    "left(90)\n",
    "forward(max_x - min_x)\n",
    "left(90)\n",
    "forward(max_y - min_y)\n",
    "up()\n",
    "setx(0)\n",
    "sety(0)\n",
    "down()    \n",
    "    \n",
    "dessiner_mouvement_brownien_dans(200, 80)\n",
    "exitonclick()"
   ]
  }
 ],
 "metadata": {
  "kernelspec": {
   "display_name": "Python 3 (ipykernel)",
   "language": "python",
   "name": "python3"
  },
  "language_info": {
   "codemirror_mode": {
    "name": "ipython",
    "version": 3
   },
   "file_extension": ".py",
   "mimetype": "text/x-python",
   "name": "python",
   "nbconvert_exporter": "python",
   "pygments_lexer": "ipython3",
   "version": "3.8.11"
  }
 },
 "nbformat": 4,
 "nbformat_minor": 5
}
