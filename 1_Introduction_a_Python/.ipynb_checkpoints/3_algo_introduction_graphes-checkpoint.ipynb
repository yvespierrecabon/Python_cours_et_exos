{
 "cells": [
  {
   "cell_type": "code",
   "execution_count": 25,
   "id": "f5c3cad6",
   "metadata": {},
   "outputs": [],
   "source": [
    "import matplotlib.pyplot as plt\n",
    "import networkx as nx\n",
    "from numpy import array\n",
    "\n",
    "G = nx.Graph()\n",
    "# definition des noeuds\n",
    "G.add_node(0,label='A',col='pink')\n",
    "G.add_node(1,label='B',col='red')\n",
    "G.add_node(2,label='C',col='green')\n",
    "G.add_node(3,label='D',col='yellow')\n",
    "G.add_node(4,label='E',col='lightblue')\n",
    "G.add_node(5,label='F',col='blue')\n",
    "# definition des aretes\n",
    "G.add_edge(0,1,weight=6,styl='dashed')\n",
    "G.add_edge(0,2,weight=5,styl='solid')\n",
    "G.add_edge(0,3,weight=1,styl='solid')\n",
    "G.add_edge(1,3,weight=5,styl='solid')\n",
    "G.add_edge(1,5,weight=1,styl='solid')\n",
    "G.add_edge(4,5,weight=3,styl='solid')\n",
    "# G.add_edge(2,3,weight=8,styl='solid')\n",
    "# G.add_edge(4,5,weight=6,styl='dashed')\n",
    "# G.add_edge(3,5,weight=9,styl='solid')\n",
    "\n"
   ]
  },
  {
   "cell_type": "code",
   "execution_count": 26,
   "id": "db5c0c81",
   "metadata": {},
   "outputs": [
    {
     "data": {
      "text/plain": [
       "{0: 'pink', 1: 'red', 2: 'green', 3: 'yellow', 4: 'lightblue', 5: 'blue'}"
      ]
     },
     "execution_count": 26,
     "metadata": {},
     "output_type": "execute_result"
    }
   ],
   "source": [
    "liste = list(G.nodes(data='col'))\n",
    "colorNodes = {}\n",
    "for noeud in liste:\n",
    "    colorNodes[noeud[0]]=noeud[1]\n",
    "colorNodes"
   ]
  },
  {
   "cell_type": "code",
   "execution_count": 27,
   "id": "d7847d33",
   "metadata": {},
   "outputs": [
    {
     "data": {
      "text/plain": [
       "['pink', 'red', 'green', 'yellow', 'lightblue', 'blue']"
      ]
     },
     "execution_count": 27,
     "metadata": {},
     "output_type": "execute_result"
    }
   ],
   "source": [
    "colorList=[colorNodes[node] for node in colorNodes]\n",
    "colorList"
   ]
  },
  {
   "cell_type": "code",
   "execution_count": 28,
   "id": "9968559e",
   "metadata": {},
   "outputs": [
    {
     "name": "stdout",
     "output_type": "stream",
     "text": [
      "{0: 'A', 1: 'B', 2: 'C', 3: 'D', 4: 'E', 5: 'F'}\n"
     ]
    }
   ],
   "source": [
    "liste = list(G.nodes(data='label'))\n",
    "labels_nodes = {}\n",
    "for noeud in liste:\n",
    "    labels_nodes[noeud[0]]=noeud[1]\n",
    "print(labels_nodes)"
   ]
  },
  {
   "cell_type": "code",
   "execution_count": 29,
   "id": "580b5403",
   "metadata": {},
   "outputs": [
    {
     "data": {
      "text/plain": [
       "{(0, 1): 6, (0, 2): 5, (0, 3): 1, (1, 3): 5, (1, 5): 1, (4, 5): 3}"
      ]
     },
     "execution_count": 29,
     "metadata": {},
     "output_type": "execute_result"
    }
   ],
   "source": [
    "labels_edges = {}\n",
    "labels_edges = {edge:G.edges[edge]['weight'] for edge in G.edges}\n",
    "#labels_edges = {edge:'' for edge in G.edges}\n",
    "labels_edges"
   ]
  },
  {
   "cell_type": "code",
   "execution_count": 30,
   "id": "2c6b6c32",
   "metadata": {},
   "outputs": [
    {
     "data": {
      "text/plain": [
       "{(0, 1): 'dashed',\n",
       " (0, 2): 'solid',\n",
       " (0, 3): 'solid',\n",
       " (1, 3): 'solid',\n",
       " (1, 5): 'solid',\n",
       " (4, 5): 'solid'}"
      ]
     },
     "execution_count": 30,
     "metadata": {},
     "output_type": "execute_result"
    }
   ],
   "source": [
    "liste = list(G.edges(data='styl'))\n",
    "edges_style = {}\n",
    "edges_style = {edge:G.edges[edge]['styl'] for edge in G.edges}\n",
    "edges_style"
   ]
  },
  {
   "cell_type": "code",
   "execution_count": 31,
   "id": "505e10b6",
   "metadata": {},
   "outputs": [
    {
     "data": {
      "text/plain": [
       "['dashed', 'solid', 'solid', 'solid', 'solid', 'solid']"
      ]
     },
     "execution_count": 31,
     "metadata": {},
     "output_type": "execute_result"
    }
   ],
   "source": [
    "edg_style = [edges_style[node] for node in edges_style]\n",
    "edg_style"
   ]
  },
  {
   "cell_type": "code",
   "execution_count": 34,
   "id": "d8728712",
   "metadata": {},
   "outputs": [
    {
     "data": {
      "image/png": "[encoded data removed]",
      "text/plain": [
       "<Figure size 640x480 with 1 Axes>"
      ]
     },
     "metadata": {},
     "output_type": "display_data"
    }
   ],
   "source": [
    "# positions for all nodes\n",
    "pos = nx.spring_layout(G)  \n",
    " \n",
    "\n",
    "# nodes\n",
    "nx.draw_networkx_nodes(G, pos, node_size=700,node_color=colorList,alpha=0.9)\n",
    "               \n",
    "# labels\n",
    "nx.draw_networkx_labels(G, pos, labels=labels_nodes,font_size=20, font_color='black', font_family='sans-serif')\n",
    "\n",
    "# edges\n",
    "nx.draw_networkx_edges(G, pos,width=1)\n",
    "nx.draw_networkx_edge_labels(G, pos, edge_labels=labels_edges,  font_color='red')\n",
    "\n",
    "\n",
    "\n",
    "plt.axis('off')\n",
    "plt.savefig('fig1.png')\n",
    "plt.show()"
   ]
  }
 ],
 "metadata": {
  "kernelspec": {
   "display_name": "Python 3 (ipykernel)",
   "language": "python",
   "name": "python3"
  },
  "language_info": {
   "codemirror_mode": {
    "name": "ipython",
    "version": 3
   },
   "file_extension": ".py",
   "mimetype": "text/x-python",
   "name": "python",
   "nbconvert_exporter": "python",
   "pygments_lexer": "ipython3",
   "version": "3.8.11"
  }
 },
 "nbformat": 4,
 "nbformat_minor": 5
}
