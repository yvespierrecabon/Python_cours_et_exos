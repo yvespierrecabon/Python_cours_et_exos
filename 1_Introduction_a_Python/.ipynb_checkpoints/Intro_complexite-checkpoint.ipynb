{
 "cells": [
  {
   "cell_type": "markdown",
   "id": "5226f123",
   "metadata": {},
   "source": [
    "### introduction à la complexité"
   ]
  },
  {
   "cell_type": "code",
   "execution_count": 5,
   "id": "b815ec71",
   "metadata": {},
   "outputs": [
    {
     "name": "stdout",
     "output_type": "stream",
     "text": [
      "10\n",
      "9\n",
      "8\n",
      "7\n",
      "6\n",
      "5\n",
      "4\n",
      "3\n",
      "2\n",
      "1\n",
      "0\n"
     ]
    }
   ],
   "source": [
    "def recursive_1(n):\n",
    "    if (n==0):\n",
    "        print(0)\n",
    "    else:\n",
    "        print(n)\n",
    "        recursive_1(n-1)\n",
    "    \n",
    "    \n",
    "recursive_1(10)    "
   ]
  },
  {
   "cell_type": "code",
   "execution_count": 16,
   "id": "c6b76a8a",
   "metadata": {},
   "outputs": [],
   "source": [
    "def aire_rectangle_1(a,b):\n",
    "    c = 0\n",
    "    for i in range(a):\n",
    "        for j in range(b):\n",
    "            c = c + 1\n",
    "    return c\n",
    "\n",
    "def aire_rectangle_2(a,b):\n",
    "    c = 0\n",
    "    for i in range(a):\n",
    "        c = c + b\n",
    "    return c\n",
    "\n",
    "\n",
    "def aire_rectangle_3(a,b):\n",
    "    return a*b\n",
    "\n"
   ]
  },
  {
   "cell_type": "code",
   "execution_count": 62,
   "id": "f97a9df1",
   "metadata": {},
   "outputs": [
    {
     "data": {
      "image/png": "[encoded data removed]",
      "text/plain": [
       "<Figure size 432x288 with 1 Axes>"
      ]
     },
     "metadata": {
      "needs_background": "light"
     },
     "output_type": "display_data"
    }
   ],
   "source": [
    "from matplotlib import pyplot as plt\n",
    "from time import time\n",
    "from math import *\n",
    "\n",
    "\n",
    "min= 1\n",
    "max = 200\n",
    "X = [x for x in range(min,max)]\n",
    "X2 = [x**2/(2*10**5) for x in range(min,max)]\n",
    "\n",
    "\n",
    "fib__1=[]\n",
    "\n",
    "start = time()\n",
    "for i in range (min, max):\n",
    "    f = aire_rectangle_1(i, 2*i)\n",
    "    stop = time()\n",
    "    fib__1.append(stop - start)\n",
    "    \n",
    "plt.plot(X,fib__1,label='aire_rectangle_1')\n",
    "fib__1.clear()\n",
    "\n",
    "start = time()\n",
    "for i in range (min, max):\n",
    "    f = aire_rectangle_2(i, 2*i)\n",
    "    stop = time()\n",
    "    fib__1.append(stop - start)\n",
    "    \n",
    "# plt.plot(X,fib__1,label='aire_rectangle_2')\n",
    "fib__1.clear()\n",
    "\n",
    "start = time()\n",
    "for i in range (min, max):\n",
    "    f = aire_rectangle_3(i, 2*i)\n",
    "    stop = time()\n",
    "    fib__1.append(stop - start)\n",
    "    \n",
    "# plt.plot(X,fib__1,label='aire_rectangle_3')\n",
    "fib__1.clear()\n",
    "plt.plot(X,X2,label='n**2')\n",
    "\n",
    "plt.legend()\n",
    "plt.show()"
   ]
  },
  {
   "cell_type": "code",
   "execution_count": null,
   "id": "633b6878",
   "metadata": {},
   "outputs": [],
   "source": []
  },
  {
   "cell_type": "code",
   "execution_count": null,
   "id": "bafb123f",
   "metadata": {},
   "outputs": [],
   "source": []
  }
 ],
 "metadata": {
  "kernelspec": {
   "display_name": "Python 3 (ipykernel)",
   "language": "python",
   "name": "python3"
  },
  "language_info": {
   "codemirror_mode": {
    "name": "ipython",
    "version": 3
   },
   "file_extension": ".py",
   "mimetype": "text/x-python",
   "name": "python",
   "nbconvert_exporter": "python",
   "pygments_lexer": "ipython3",
   "version": "3.8.11"
  }
 },
 "nbformat": 4,
 "nbformat_minor": 5
}
