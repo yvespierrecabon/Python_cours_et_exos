{
 "cells": [
  {
   "cell_type": "markdown",
   "id": "85c4bbb6",
   "metadata": {},
   "source": [
    "## introduction aux concepts de base de la programmation orientée objet avec Python"
   ]
  },
  {
   "cell_type": "markdown",
   "id": "3adc29c2",
   "metadata": {},
   "source": [
    "### Classe Point"
   ]
  },
  {
   "cell_type": "markdown",
   "id": "56cfcd27",
   "metadata": {},
   "source": [
    "#### On définit un objet point par son abcisse, son ordonnée et son nom\n"
   ]
  },
  {
   "cell_type": "markdown",
   "id": "c57c0d12",
   "metadata": {},
   "source": [
    "Attributs et méthodes"
   ]
  },
  {
   "cell_type": "code",
   "execution_count": 12,
   "id": "365679c7",
   "metadata": {},
   "outputs": [],
   "source": [
    "from math import *\n",
    "import numpy as np\n",
    "\n",
    "class Point:\n",
    "    def __init__(self,x,y, nom):\n",
    "        self.__x = x*1.0\n",
    "        self.__y = y*1.0\n",
    "        self.__name=nom\n",
    "        self._poids=6.0\n",
    "        self._color='gold'\n",
    "        \n",
    "    def get_x(self):\n",
    "        return self.__x\n",
    "    \n",
    "    def get_y(self):\n",
    "        return self.__y\n",
    "    \n",
    "    def get_name(self):\n",
    "        return self.__name\n",
    "    \n",
    "    def set_poids(p:float):\n",
    "        self.__poids = p\n",
    "    \n",
    "    def __str__(self):\n",
    "        return \"(\"+str(self.__x)+\",\"+str(self.__y)+\")\"\n",
    "    \n",
    "    def translate(self, dx, dy):\n",
    "        self.__x += dx\n",
    "        self.__y += dy\n",
    "        \n",
    "    def multiply(self,alpha):\n",
    "        self.__x *=alpha\n",
    "        self.__y *=alpha\n",
    "        \n",
    "    def rotate(self, p_rot, alpha:float):\n",
    "        p_1 = Point(self.__x - p_rot.__x, self.__y - p_rot.__y,'p_1')\n",
    "        module = p_1.distance(Point(0,0,'Origine'))\n",
    "        alpha_1 = np.arcsin(p_1.get_x()/module)\n",
    "        if p_1.get_y()<0:\n",
    "            alpha_1 *=-1\n",
    "        self.__x = module*sin(alpha_1 + alpha)\n",
    "        self.__y = module*cos(alpha_1 + alpha)\n",
    "        \n",
    "    def distance(self, p2):\n",
    "        return sqrt((self.__x -p2.get_x())**2 + (self.__y -p2.get_y())**2)\n",
    "        \n",
    "    def trace(self, axe):\n",
    "        axe.scatter(self.__x,self.__y, label=self.__name)\n",
    "    \n",
    "    def trace_2(self, axe):\n",
    "        axe.scatter(self.__x,self.__y, label=self.__name, s = 10*self._poids**2,color=[self._color])"
   ]
  },
  {
   "cell_type": "code",
   "execution_count": 13,
   "id": "215052a6",
   "metadata": {},
   "outputs": [
    {
     "name": "stdout",
     "output_type": "stream",
     "text": [
      "Distance entre (10.0,10.0) et (80.0,40.0) : 76.15773105863909\n",
      "86.02325267042627\n",
      "(10.948375819248538,8.951707486311978)\n"
     ]
    }
   ],
   "source": [
    "p1 = Point(10,10, 'p1')\n",
    "p2 = Point(80,40,\"p2\")\n",
    "\n",
    "print(\"Distance entre\",p1,\"et\",p2,\":\",p1.distance(p2))\n",
    "\n",
    "p2.translate(0,20)\n",
    "\n",
    "print(p1.distance(p2))   \n",
    "p2.translate(0,-20)\n",
    "p1.rotate(Point(0,0,'Origine'),0.1)\n",
    "print(p1)"
   ]
  },
  {
   "cell_type": "code",
   "execution_count": 17,
   "id": "1a4d565d",
   "metadata": {},
   "outputs": [
    {
     "data": {
      "image/png": "[encoded data removed]",
      "text/plain": [
       "<Figure size 432x288 with 1 Axes>"
      ]
     },
     "metadata": {
      "needs_background": "light"
     },
     "output_type": "display_data"
    }
   ],
   "source": [
    "import matplotlib.pyplot as plt\n",
    "fig, ax = plt.subplots()  # Create a figure containing a single axes.\n",
    "p1.trace(ax)\n",
    "p2.trace(ax)\n",
    "p2.translate(10.5,10)\n",
    "p2.trace_2(ax)\n",
    "ax.legend()\n",
    "ax.set_aspect(aspect = 'equal')\n",
    "ax.margins(0.7)\n",
    "plt.show()"
   ]
  },
  {
   "cell_type": "markdown",
   "id": "f7d4f972",
   "metadata": {},
   "source": [
    "### Classe Rectangle"
   ]
  },
  {
   "cell_type": "code",
   "execution_count": 4,
   "id": "6f15a3d6",
   "metadata": {},
   "outputs": [],
   "source": [
    "class Rectangle:\n",
    "    def __init__(self, p1:Point,p2:Point, nom:str):\n",
    "        self.__p1 = Point(min(p1.get_x(),p2.get_x()),max(p1.get_y(),p2.get_y()),p1.get_name())\n",
    "        self.__p2 = Point(max(p1.get_x(),p2.get_x()),min(p1.get_y(),p2.get_y()),p2.get_name())\n",
    "        self.__name = nom\n",
    "        \n",
    "    def get_p1(self):\n",
    "        return self.__p1\n",
    "    \n",
    "    \n",
    "    def get_p2(self):\n",
    "        return self.__p2\n",
    "    \n",
    "    def get_name(self):\n",
    "        return self.__name\n",
    "    \n",
    "    def get_longueur(self):\n",
    "        return self.__p2.get_x() - self.__p1.get_x()\n",
    "\n",
    "    def get_hauteur(self):\n",
    "        return self.__p1.get_y() - self.__p2.get_y()\n",
    "    \n",
    "    def get_aire(self):\n",
    "        return self.get_hauteur() * self.get_longueur()\n",
    "    \n",
    "    def get_perimetre(self):\n",
    "        return 2*(self.get_hauteur() + self.get_longueur)\n",
    "        \n",
    "    def trace(self,axe):\n",
    "        axe.plot([self.get_p1().get_x(), self.get_p2().get_x(),self.get_p2().get_x(),self.get_p1().get_x(),self.get_p1().get_x()],\n",
    "                 [self.get_p1().get_y(),self.get_p1().get_y(),self.get_p2().get_y(),self.get_p2().get_y(),self.get_p1().get_y()],label=self.get_name())        "
   ]
  },
  {
   "cell_type": "code",
   "execution_count": 5,
   "id": "6ba4439b",
   "metadata": {},
   "outputs": [
    {
     "name": "stdout",
     "output_type": "stream",
     "text": [
      "(10.0,10.0) (90.5,50.0)\n",
      "(10.0,50.0) (90.5,10.0)\n",
      "Hauteur = 40.0  Longueur = 80.5\n"
     ]
    }
   ],
   "source": [
    "r1 = Rectangle(p1,p2,\"r1\")\n",
    "print(p1, p2)\n",
    "print(r1.get_p1(), r1.get_p2())\n",
    "print(\"Hauteur =\",r1.get_hauteur(),\" Longueur =\",r1.get_longueur())"
   ]
  },
  {
   "cell_type": "code",
   "execution_count": 6,
   "id": "6d4ddbb0",
   "metadata": {},
   "outputs": [
    {
     "data": {
      "image/png": "[encoded data removed]",
      "text/plain": [
       "<Figure size 432x288 with 1 Axes>"
      ]
     },
     "metadata": {
      "needs_background": "light"
     },
     "output_type": "display_data"
    }
   ],
   "source": [
    "fig, ax = plt.subplots()  # Create a figure containing a single axes.\n",
    "p1.trace(ax)\n",
    "p2.trace(ax)\n",
    "r1.trace(ax)\n",
    "ax.legend()\n",
    "ax.set_aspect(aspect = 'equal')\n",
    "ax.margins(0.7)\n",
    "plt.show()"
   ]
  },
  {
   "cell_type": "markdown",
   "id": "4c960388",
   "metadata": {},
   "source": [
    "#### Classe Polygone"
   ]
  },
  {
   "cell_type": "code",
   "execution_count": 15,
   "id": "16e20b9f",
   "metadata": {},
   "outputs": [],
   "source": [
    "class Polygone:\n",
    "    \n",
    "\n",
    "    \n",
    "    def __init__(self, liste:list,nom:str):\n",
    "        self.poly = liste\n",
    "        self.name = nom\n",
    "        self.bary = self.get_barycentre()\n",
    "    \n",
    "    def get_name(self):\n",
    "        return self.name\n",
    "    \n",
    "    def get_perimetre(self):\n",
    "        return sum([self.poly[i].distance(self.poly[i+1]) for i in range(len(self.poly)-1)])+ \\\n",
    "    self.poly[len(self.poly)-1].distance(self.poly[0])\n",
    "        \n",
    "\n",
    "    def get_barycentre(self):\n",
    "        bary = Point(0,0,'barycentre')\n",
    "        for p in self.poly:\n",
    "            bary.translate(p.get_x(),p.get_y())\n",
    "        bary.multiply(1/len(self.poly))\n",
    "        return bary\n",
    "            \n",
    "        \n",
    "    def trace(self,axe):\n",
    "        coord_x = []\n",
    "        coord_y=[]\n",
    "        for p in self.poly:\n",
    "            coord_x.append(p.get_x())\n",
    "            coord_y.append(p.get_y())\n",
    "        coord_x.append(self.poly[0].get_x())\n",
    "        coord_y.append(self.poly[0].get_y())\n",
    "        axe.plot(coord_x,coord_y,label=self.get_name())        \n",
    "        "
   ]
  },
  {
   "cell_type": "code",
   "execution_count": 10,
   "id": "068eea0a",
   "metadata": {},
   "outputs": [
    {
     "data": {
      "image/png": "[encoded data removed]",
      "text/plain": [
       "<Figure size 432x288 with 1 Axes>"
      ]
     },
     "metadata": {
      "needs_background": "light"
     },
     "output_type": "display_data"
    },
    {
     "name": "stdout",
     "output_type": "stream",
     "text": [
      "Périmètre : 121.52993742766873\n"
     ]
    }
   ],
   "source": [
    "p1 = Point(10,10, 'p1')\n",
    "p2 = Point(30,40,\"p2\")\n",
    "p3 = Point(60,30,'p3')\n",
    "poly_1 = Polygone([p1,p2,p3],'poly_1')\n",
    "bary_1 = poly_1.get_barycentre()\n",
    "\n",
    "rect_1= Rectangle(p1,p3,'rect_1')\n",
    "fig, ax = plt.subplots()  # Create a figure containing a single axes.\n",
    "bary_1.trace(ax)\n",
    "p1.trace(ax)\n",
    "p2.trace(ax)\n",
    "p3.trace(ax)\n",
    "rect_1.trace(ax)\n",
    "poly_1.trace(ax)\n",
    "ax.set_aspect(aspect = 'equal')\n",
    "ax.margins(0.3)\n",
    "ax.legend()\n",
    "plt.show()\n",
    "print('Périmètre :',poly_1.get_perimetre())"
   ]
  },
  {
   "cell_type": "code",
   "execution_count": 19,
   "id": "cef30ac3",
   "metadata": {},
   "outputs": [
    {
     "data": {
      "image/png": "[encoded data removed]",
      "text/plain": [
       "<Figure size 432x288 with 1 Axes>"
      ]
     },
     "metadata": {
      "needs_background": "light"
     },
     "output_type": "display_data"
    }
   ],
   "source": [
    "from matplotlib.animation import FuncAnimation\n",
    "import time\n",
    "\n",
    "points = []\n",
    "centre = Point(50,50,'centre')\n",
    "nb_sommets = 8\n",
    "rayon = 20\n",
    "for i in range(nb_sommets):\n",
    "    points.append(Point(centre.get_x()+rayon*sin(i*2*pi/nb_sommets),\\\n",
    "                        centre.get_y()+rayon*cos(i*2*pi/nb_sommets),'pt_'+str(i)))\n",
    "\n",
    "poly_1 = Polygone(points,'poly_1')\n",
    "\n",
    "fig, ax = plt.subplots()  # Create a figure containing a single axes.\n",
    "# points[0].trace(ax)\n",
    "\n",
    "\n",
    "# poly_1.trace(ax)\n",
    "# ax.legend()\n",
    "# ax.legend(loc = 'upper right')\n",
    "ax.margins(0.3)\n",
    "ax.set_aspect(aspect = 'equal')\n",
    "fig.tight_layout(rect = [0, 0, 1, 1])\n",
    "\n",
    "def animate(i):\n",
    "    for j in range(len(poly_1.poly)):\n",
    "        poly_1.poly[j].translate(5,5)\n",
    "        # poly_1.poly[j].rotate(poly_1.bary(),0.1)\n",
    "    # ax.clear()\n",
    "    # return poly_1.trace(ax)\n",
    "    \n",
    "    coord_x = []\n",
    "    coord_y=[]\n",
    "    for p in poly_1.poly:\n",
    "        coord_x.append(p.get_x())\n",
    "        coord_y.append(p.get_y())\n",
    "    coord_x.append(poly_1.poly[0].get_x())\n",
    "    coord_y.append(poly_1.poly[0].get_y())\n",
    "    return ax.plot(coord_x,coord_y)\n",
    "    \n",
    "ani = FuncAnimation(fig, animate, frames=20,  blit=True, interval=500, repeat=False)\n",
    "\n",
    "plt.show()"
   ]
  },
  {
   "cell_type": "code",
   "execution_count": null,
   "id": "bba8fe58",
   "metadata": {},
   "outputs": [],
   "source": []
  }
 ],
 "metadata": {
  "kernelspec": {
   "display_name": "Python 3 (ipykernel)",
   "language": "python",
   "name": "python3"
  },
  "language_info": {
   "codemirror_mode": {
    "name": "ipython",
    "version": 3
   },
   "file_extension": ".py",
   "mimetype": "text/x-python",
   "name": "python",
   "nbconvert_exporter": "python",
   "pygments_lexer": "ipython3",
   "version": "3.8.11"
  }
 },
 "nbformat": 4,
 "nbformat_minor": 5
}
