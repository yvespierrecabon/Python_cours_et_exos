{
 "cells": [
  {
   "cell_type": "markdown",
   "id": "85c4bbb6",
   "metadata": {},
   "source": [
    "## introduction aux concepts de base de la programmation orientée objet avec Python"
   ]
  },
  {
   "cell_type": "markdown",
   "id": "3adc29c2",
   "metadata": {},
   "source": [
    "### Classe Rectangle"
   ]
  },
  {
   "cell_type": "markdown",
   "id": "56cfcd27",
   "metadata": {},
   "source": [
    "#### on définit un rectangle par son point haut-gauche et bas-droite  \n"
   ]
  },
  {
   "cell_type": "code",
   "execution_count": 6,
   "id": "e41d6a9a",
   "metadata": {
    "scrolled": false
   },
   "outputs": [
    {
     "name": "stdout",
     "output_type": "stream",
     "text": [
      "[65, 26, 100, 41, 86, 73, 66, 35, 26, 60, 66, 19, 15, 75, 32, 92, 71, 61, 99, 44, 82, 15, 49, 91, 14, 45, 68, 49, 19, 47, 15, 94, 74, 91, 17, 48, 1, 10, 14, 99, 55, 2, 55, 30, 31, 62, 4, 34, 97, 68, 13, 81, 11, 50, 19, 5, 94, 50, 85, 67, 41, 73, 94, 87, 51, 52, 65, 55, 83, 27, 12, 6, 79, 25, 81, 78, 2, 89, 49, 86, 38, 84, 95, 50, 91, 35, 18, 94, 0, 92, 18, 100, 9, 93, 44, 37, 12, 45, 13, 5]\n",
      "moyenne :  51.15\n",
      "moyenne_2 :  51.15\n"
     ]
    }
   ],
   "source": [
    "class Rectangle:\n",
    "    def __init__(self, x1,y1,x2,y2):\n",
    "        self._x1 = x1\n",
    "        self._y1 = y1\n",
    "        self._x2 = x2\n",
    "        self._y2 = y2\n",
    "        \n",
    "        "
   ]
  },
  {
   "cell_type": "markdown",
   "id": "c57c0d12",
   "metadata": {},
   "source": [
    "### Visualisation graphique"
   ]
  },
  {
   "cell_type": "code",
   "execution_count": 9,
   "id": "bcac47f2",
   "metadata": {
    "scrolled": false
   },
   "outputs": [
    {
     "data": {
      "image/png": "[encoded data removed]",
      "text/plain": [
       "<Figure size 432x288 with 1 Axes>"
      ]
     },
     "metadata": {
      "needs_background": "light"
     },
     "output_type": "display_data"
    }
   ],
   "source": [
    "import matplotlib.pyplot as plt\n",
    "plt.scatter(range(len(tableau)),tableau,color=\"red\",s=1)\n",
    "plt.show()"
   ]
  },
  {
   "cell_type": "code",
   "execution_count": 10,
   "id": "b99cc840",
   "metadata": {
    "scrolled": false
   },
   "outputs": [
    {
     "name": "stdout",
     "output_type": "stream",
     "text": [
      "[9, 13, 10, 6, 12, 18, 7, 7, 7, 11]\n"
     ]
    }
   ],
   "source": [
    "bars = []\n",
    "for i in range(10):\n",
    "    bars.append(0)\n",
    "for i in range(len(tableau)):\n",
    "    bars[tableau[i]%10] +=1\n",
    "print(bars)"
   ]
  },
  {
   "cell_type": "code",
   "execution_count": 22,
   "id": "06f0d48f",
   "metadata": {
    "scrolled": false
   },
   "outputs": [
    {
     "data": {
      "image/png": "[encoded data removed]",
      "text/plain": [
       "<Figure size 432x288 with 1 Axes>"
      ]
     },
     "metadata": {
      "needs_background": "light"
     },
     "output_type": "display_data"
    }
   ],
   "source": [
    "plt.bar(range(len(bars)),bars)\n",
    "plt.show()"
   ]
  }
 ],
 "metadata": {
  "kernelspec": {
   "display_name": "Python 3 (ipykernel)",
   "language": "python",
   "name": "python3"
  },
  "language_info": {
   "codemirror_mode": {
    "name": "ipython",
    "version": 3
   },
   "file_extension": ".py",
   "mimetype": "text/x-python",
   "name": "python",
   "nbconvert_exporter": "python",
   "pygments_lexer": "ipython3",
   "version": "3.8.11"
  }
 },
 "nbformat": 4,
 "nbformat_minor": 5
}
