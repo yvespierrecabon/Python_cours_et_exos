{
 "cells": [
  {
   "cell_type": "markdown",
   "id": "ee787823",
   "metadata": {},
   "source": [
    "### Tris"
   ]
  },
  {
   "cell_type": "code",
   "execution_count": 1,
   "id": "b2e427ae",
   "metadata": {},
   "outputs": [],
   "source": [
    "import random\n",
    "import time"
   ]
  },
  {
   "cell_type": "code",
   "execution_count": 2,
   "id": "48fda4f1",
   "metadata": {},
   "outputs": [],
   "source": [
    "def tri_a_bulles(tableau):\n",
    "    taille = len(tableau)\n",
    "    for i in range(taille):\n",
    "        for j in range(taille-1):\n",
    "            if tableau[j] > tableau[j+1]:\n",
    "                tableau[j], tableau[j + 1] = tableau[j+1], tableau[j]\n",
    "    return tableau"
   ]
  },
  {
   "cell_type": "code",
   "execution_count": 3,
   "id": "479be2dc",
   "metadata": {},
   "outputs": [],
   "source": [
    "def tri_par_insertion(tableau):\n",
    "    for i in range(len(tableau)):\n",
    "        x = tableau[i]\n",
    "        j = i\n",
    "        while j>0 and tableau[j-1]>x:\n",
    "            tableau[j] = tableau[j-1]\n",
    "            j-=1\n",
    "        tableau[j] = x\n",
    "    return tableau"
   ]
  },
  {
   "cell_type": "code",
   "execution_count": 4,
   "id": "7f01e0ef",
   "metadata": {},
   "outputs": [],
   "source": [
    "def tri_rapide(tableau):\n",
    "    taille = len(tableau)\n",
    "    tableau_tri = []\n",
    "    while len(tableau)>0:\n",
    "        minimum = tableau[0]\n",
    "        indice = 0\n",
    "        for i in range(1,len(tableau)):\n",
    "            if tableau[i]<minimum:\n",
    "                minimum = tableau[i]\n",
    "                indice = i\n",
    "        tableau_tri.append(minimum)\n",
    "        tableau.pop(indice)\n",
    "    return tableau_tri"
   ]
  },
  {
   "cell_type": "code",
   "execution_count": 5,
   "id": "f8d7692e",
   "metadata": {},
   "outputs": [],
   "source": [
    "def fusion(T1, T2):\n",
    "    if len(T1)==0:\n",
    "        return T2\n",
    "    if len(T2)==0:\n",
    "        return T1\n",
    "    if T1[0] <= T2[0]:\n",
    "        return [T1[0]] +fusion(T1[1:],T2)\n",
    "    else:\n",
    "        return [T2[0]]+ fusion(T1, T2[1:])\n",
    "\n",
    "def tri_fusion(T):\n",
    "    if len(T)<=1:\n",
    "        return T\n",
    "    else:\n",
    "        indice = int(len(T)/2)\n",
    "        return fusion(tri_fusion(T[:indice]),tri_fusion(T[indice:]))"
   ]
  },
  {
   "cell_type": "code",
   "execution_count": 6,
   "id": "0616d8fa",
   "metadata": {},
   "outputs": [
    {
     "name": "stdout",
     "output_type": "stream",
     "text": [
      "tri_rapide 1.9386043548583984 secondes\n",
      "tri_a_bulles 9.411571979522705 secondes\n",
      "tri_par_insertion 3.3191583156585693 secondes\n"
     ]
    }
   ],
   "source": [
    "random.seed(time.time())\n",
    "tableau_1 = []\n",
    "N= 10000\n",
    "for i in range(N):\n",
    "    tableau_1.append(random.randint(0, N))\n",
    "    \n",
    "    \n",
    "# print(tableau_1)\n",
    "start = time.time()\n",
    "tableau_1 = tri_rapide(tableau_1)\n",
    "end = time.time()\n",
    "duree = end-start\n",
    "# print(tableau_1)\n",
    "\n",
    "print(\"tri_rapide\",duree, \"secondes\")    \n",
    "tableau_1.clear()\n",
    "for i in range(N):\n",
    "    tableau_1.append(random.randint(0, N))\n",
    "    \n",
    "    \n",
    "# print(tableau_1)\n",
    "start = time.time()\n",
    "tableau_1 = tri_a_bulles(tableau_1)\n",
    "end = time.time()\n",
    "duree = end-start\n",
    "# print(tableau_1)\n",
    "\n",
    "print(\"tri_a_bulles\",duree, \"secondes\") \n",
    "\n",
    "\n",
    "tableau_1.clear()\n",
    "for i in range(N):\n",
    "    tableau_1.append(random.randint(0, N))\n",
    "    \n",
    "    \n",
    "# print(tableau_1)\n",
    "start = time.time()\n",
    "tableau_1 = tri_par_insertion(tableau_1)\n",
    "end = time.time()\n",
    "duree = end-start\n",
    "# print(tableau_1)\n",
    "\n",
    "print(\"tri_par_insertion\", duree, \"secondes\") \n"
   ]
  },
  {
   "cell_type": "code",
   "execution_count": 7,
   "id": "52774890",
   "metadata": {},
   "outputs": [
    {
     "name": "stdout",
     "output_type": "stream",
     "text": [
      "Début tri_a_bulles\n",
      "Début tri_par_insertion\n",
      "Début tri_rapide\n",
      "Début tri_fusion\n"
     ]
    },
    {
     "data": {
      "image/png": "[encoded data removed]",
      "text/plain": [
       "<Figure size 432x288 with 1 Axes>"
      ]
     },
     "metadata": {
      "needs_background": "light"
     },
     "output_type": "display_data"
    }
   ],
   "source": [
    "from matplotlib import pyplot as plt\n",
    "from time import time\n",
    "\n",
    "min= 100\n",
    "# max = 500\n",
    "max = 1000\n",
    "\n",
    "X = [x for x in range(min,max,10)]\n",
    "Y=[]\n",
    "tableau_1 =[]\n",
    "print('Début tri_a_bulles')\n",
    "for i in range (min, max,10):\n",
    "    for j in range(i):\n",
    "        tableau_1.append(random.randint(0, max)) \n",
    "    start = time()\n",
    "    # tableau_1 = tri_a_bulles(tableau_1)\n",
    "    stop = time()\n",
    "    Y.append(stop - start)\n",
    "    tableau_1.clear()\n",
    "    \n",
    "# plt.plot(X,Y,label='tri_a_bulles')\n",
    "\n",
    "Y.clear()\n",
    "print('Début tri_par_insertion')\n",
    "for i in range (min, max,10):\n",
    "    for j in range(i):\n",
    "        tableau_1.append(random.randint(0, max)) \n",
    "    start = time()\n",
    "    tableau_1 = tri_par_insertion(tableau_1)\n",
    "    stop = time()\n",
    "    Y.append(stop - start)\n",
    "    tableau_1.clear()\n",
    "    \n",
    "plt.plot(X,Y,label='tri_par_insertion')\n",
    "Y.clear()\n",
    "\n",
    "\n",
    "Y.clear()\n",
    "print('Début tri_rapide')\n",
    "for i in range (min, max,10):\n",
    "    for j in range(i):\n",
    "        tableau_1.append(random.randint(0, max)) \n",
    "    start = time()\n",
    "    tableau_1 = tri_rapide(tableau_1)\n",
    "    stop = time()\n",
    "    Y.append(stop - start)\n",
    "    tableau_1.clear()\n",
    "    \n",
    "plt.plot(X,Y,label='tri_rapide')\n",
    "\n",
    "Y.clear()\n",
    "print('Début tri_fusion')\n",
    "for i in range (min, max,10):\n",
    "    for j in range(i):\n",
    "        tableau_1.append(random.randint(0, max)) \n",
    "    start = time()\n",
    "    tableau_1 = tri_fusion(tableau_1)\n",
    "    stop = time()\n",
    "    Y.append(stop - start)\n",
    "    tableau_1.clear()\n",
    "    \n",
    "plt.plot(X,Y,label='tri_fusion')\n",
    "\n",
    "plt.legend()\n",
    "plt.show()"
   ]
  },
  {
   "cell_type": "code",
   "execution_count": 8,
   "id": "b155793c",
   "metadata": {},
   "outputs": [
    {
     "name": "stdout",
     "output_type": "stream",
     "text": [
      "tri rapide début\n",
      "tri rapide terminé\n",
      "0.004998683929443359 ms\n",
      "0.00010180473327636719 ms\n"
     ]
    }
   ],
   "source": [
    "import random\n",
    "from time import time\n",
    "\n",
    "def recherche_entier(tableau_trie, n):\n",
    "    # print(tableau_trie,n)\n",
    "    i = 0\n",
    "    while(tableau_trie[i]<n):\n",
    "        i+=1\n",
    "    if tableau_trie[i] == n:\n",
    "        return i\n",
    "    else:\n",
    "        return -1\n",
    "    \n",
    "\n",
    "def recherche_dichotomique(tab, n):\n",
    "    print(tab, n)\n",
    "    milieu = 0\n",
    "    gauche = 0\n",
    "    droite = len(tab)-1\n",
    "    while(gauche < droite or milieu != len(tab)-1):\n",
    "        milieu = int((gauche + droite)/2)\n",
    "        # print('milieu',milieu)\n",
    "        if n < tab[milieu]:\n",
    "            droite = milieu -1\n",
    "        elif n > tab[milieu]:\n",
    "            gauche = milieu + 1\n",
    "    if gauche > droite:\n",
    "        milieu = len(tab)-1\n",
    "    return milieu\n",
    "\n",
    "\n",
    "def recherche_dichotomique_(tab, n):\n",
    "    # print(tab, n)\n",
    "    milieu = 0\n",
    "    gauche = 0\n",
    "    droite = len(tab)-1\n",
    "    while tab[milieu] != n and gauche<droite:\n",
    "        milieu = int((gauche + droite)/2)\n",
    "        if n < tab[milieu]:\n",
    "            droite = milieu -1\n",
    "        elif n > tab[milieu]:\n",
    "            gauche = milieu + 1\n",
    "        # print('milieu',milieu, \"gauche\",gauche,\"droite\",droite)\n",
    "    if tab[milieu] == n:\n",
    "        # print('milieu',milieu, '=>',tab[milieu])\n",
    "        return milieu\n",
    "    # print(n, 'non trouvé')\n",
    "    return -1\n",
    "\n",
    "\n",
    "\n",
    "max = 20000\n",
    "tableau_1 =[]\n",
    "tableau_1.clear()\n",
    "print('tri rapide début')\n",
    "for j in range(max):    \n",
    "    tableau_1.append(random.randint(0, max)) \n",
    "tableau_2 = tri_rapide(tableau_1)\n",
    "print('tri rapide terminé')\n",
    "start = time()\n",
    "for j in range(10):\n",
    "    n = random.randint(0, max-1)\n",
    "    recherche_entier(tableau_2, n)\n",
    "stop = time()\n",
    "print(stop - start ,\"ms\")\n",
    "\n",
    "start = time()\n",
    "for j in range(10):\n",
    "    n = random.randint(0, max)\n",
    "    recherche_dichotomique_(tableau_2, n)\n",
    "stop = time()\n",
    "print(stop - start ,\"ms\")\n",
    "    \n",
    "    "
   ]
  },
  {
   "cell_type": "code",
   "execution_count": null,
   "id": "a347f67e",
   "metadata": {},
   "outputs": [],
   "source": []
  },
  {
   "cell_type": "code",
   "execution_count": null,
   "id": "aa1cffae",
   "metadata": {},
   "outputs": [],
   "source": []
  }
 ],
 "metadata": {
  "kernelspec": {
   "display_name": "Python 3 (ipykernel)",
   "language": "python",
   "name": "python3"
  },
  "language_info": {
   "codemirror_mode": {
    "name": "ipython",
    "version": 3
   },
   "file_extension": ".py",
   "mimetype": "text/x-python",
   "name": "python",
   "nbconvert_exporter": "python",
   "pygments_lexer": "ipython3",
   "version": "3.8.11"
  }
 },
 "nbformat": 4,
 "nbformat_minor": 5
}
