{
 "cells": [
  {
   "cell_type": "markdown",
   "id": "6d3196ba",
   "metadata": {},
   "source": [
    "### Tris"
   ]
  },
  {
   "cell_type": "code",
   "execution_count": 2,
   "id": "fe1b1e14",
   "metadata": {},
   "outputs": [],
   "source": [
    "import random\n",
    "import time"
   ]
  },
  {
   "cell_type": "code",
   "execution_count": 8,
   "id": "d8d5ba4c",
   "metadata": {},
   "outputs": [],
   "source": [
    "def tri_(tableau):\n",
    "    taille = len(tableau)\n",
    "    tableau_tri = []\n",
    "    while len(tableau)>0:\n",
    "        minimum = tableau[0]\n",
    "        indice = 0\n",
    "        for i in range(1,len(tableau)):\n",
    "            if tableau[i]<minimum:\n",
    "                minimum = tableau[i]\n",
    "                indice = i\n",
    "        tableau_tri.append(minimum)\n",
    "        tableau.pop(indice)\n",
    "    return tableau_tri"
   ]
  },
  {
   "cell_type": "code",
   "execution_count": 12,
   "id": "a7393a25",
   "metadata": {},
   "outputs": [],
   "source": [
    "def tri_par_insertion(tableau):\n",
    "    for i in range(len(tableau)):\n",
    "        x = tableau[i]\n",
    "        j = i\n",
    "        while j>0 and tableau[j-1]>x:\n",
    "            tableau[j] = tableau[j-1]\n",
    "            j-=1\n",
    "        tableau[j] = x\n",
    "    return tableau"
   ]
  },
  {
   "cell_type": "code",
   "execution_count": 4,
   "id": "9a12b22a",
   "metadata": {},
   "outputs": [],
   "source": [
    "def tri_a_bulles(tableau):\n",
    "    taille = len(tableau)\n",
    "    for i in range(taille):\n",
    "        for j in range(taille-1):\n",
    "            if tableau[j] > tableau[j+1]:\n",
    "                tableau[j], tableau[j + 1] = tableau[j+1], tableau[j]\n",
    "    return tableau"
   ]
  },
  {
   "cell_type": "code",
   "execution_count": 13,
   "id": "067c0475",
   "metadata": {},
   "outputs": [
    {
     "name": "stdout",
     "output_type": "stream",
     "text": [
      "tri_simpliste 1.8723056316375732 secondes\n",
      "tri_a_bulles 9.382684469223022 secondes\n",
      "tri_par_insertion 3.2931606769561768 secondes\n"
     ]
    }
   ],
   "source": [
    "random.seed(time.time())\n",
    "tableau_1 = []\n",
    "N= 10000\n",
    "for i in range(N):\n",
    "    tableau_1.append(random.randint(0, N))\n",
    "    \n",
    "    \n",
    "# print(tableau_1)\n",
    "start = time.time()\n",
    "tableau_1 = tri_simpliste(tableau_1)\n",
    "end = time.time()\n",
    "duree = end-start\n",
    "# print(tableau_1)\n",
    "\n",
    "print(\"tri_simpliste\",duree, \"secondes\")    \n",
    "tableau_1.clear()\n",
    "for i in range(N):\n",
    "    tableau_1.append(random.randint(0, N))\n",
    "    \n",
    "    \n",
    "# print(tableau_1)\n",
    "start = time.time()\n",
    "tableau_1 = tri_a_bulles(tableau_1)\n",
    "end = time.time()\n",
    "duree = end-start\n",
    "# print(tableau_1)\n",
    "\n",
    "print(\"tri_a_bulles\",duree, \"secondes\") \n",
    "\n",
    "\n",
    "tableau_1.clear()\n",
    "for i in range(N):\n",
    "    tableau_1.append(random.randint(0, N))\n",
    "    \n",
    "    \n",
    "# print(tableau_1)\n",
    "start = time.time()\n",
    "tableau_1 = tri_par_insertion(tableau_1)\n",
    "end = time.time()\n",
    "duree = end-start\n",
    "# print(tableau_1)\n",
    "\n",
    "print(\"tri_par_insertion\", duree, \"secondes\") \n"
   ]
  },
  {
   "cell_type": "code",
   "execution_count": null,
   "id": "f1596a3f",
   "metadata": {},
   "outputs": [],
   "source": []
  }
 ],
 "metadata": {
  "kernelspec": {
   "display_name": "Python 3 (ipykernel)",
   "language": "python",
   "name": "python3"
  },
  "language_info": {
   "codemirror_mode": {
    "name": "ipython",
    "version": 3
   },
   "file_extension": ".py",
   "mimetype": "text/x-python",
   "name": "python",
   "nbconvert_exporter": "python",
   "pygments_lexer": "ipython3",
   "version": "3.8.11"
  }
 },
 "nbformat": 4,
 "nbformat_minor": 5
}
