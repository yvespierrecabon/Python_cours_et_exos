{
 "cells": [
  {
   "cell_type": "markdown",
   "id": "85c4bbb6",
   "metadata": {},
   "source": [
    "## introduction aux concepts de base de la programmation avec Python"
   ]
  },
  {
   "cell_type": "code",
   "execution_count": 1,
   "id": "2e285224",
   "metadata": {
    "scrolled": false
   },
   "outputs": [
    {
     "name": "stdout",
     "output_type": "stream",
     "text": [
      "4\n"
     ]
    }
   ],
   "source": [
    "from random import randint\n",
    "print(randint(0,40))"
   ]
  },
  {
   "cell_type": "code",
   "execution_count": 4,
   "id": "7fd45ffd",
   "metadata": {},
   "outputs": [],
   "source": [
    "from turtle import *"
   ]
  },
  {
   "cell_type": "code",
   "execution_count": 72,
   "id": "30337ed7",
   "metadata": {
    "scrolled": false
   },
   "outputs": [],
   "source": [
    "\n",
    "def dessiner_mouvement_brownien(nb_de_segments, longueur):\n",
    "    i = 0\n",
    "    while i < nb_de_segments:\n",
    "        forward(longueur + randint(-10,10))\n",
    "        left(randint(-180,180))\n",
    "        i +=1\n",
    "        pos = position()\n",
    "    exitonclick()\n",
    "dessiner_mouvement_brownien(10, 50)"
   ]
  },
  {
   "cell_type": "code",
   "execution_count": 68,
   "id": "02a34d50",
   "metadata": {},
   "outputs": [],
   "source": [
    "def tortue_dans_rectangle(pos, lenght, angle):\n",
    "    return (pos[0]+lenght < max_x or 90 <= angle <= 270) \\\n",
    "        and (pos[0]-lenght > min_x or \\\n",
    "             0 <= angle <= 90 or 270 <= angle <= 360)  \\\n",
    "        and (pos[1]+lenght < max_y or 180 <= angle <= 360 ) \\\n",
    "        and (pos[1]-lenght > min_y or 0 <= angle <= 180)\n",
    "\n",
    "def dessiner_mouvement_brownien_dans(nb_de_segments, longueur):\n",
    "    i = 0\n",
    "    j=0\n",
    "    while i < nb_de_segments:\n",
    "        j+=1\n",
    "        longueur_temp = longueur + randint(-30,30)\n",
    "        pos = position()\n",
    "        rotation = randint(0,360)\n",
    "        new_angle = (heading() + rotation) % 360\n",
    "        if tortue_dans_rectangle(pos, longueur_temp, new_angle):\n",
    "            # color(couleurs[i%len(couleurs)])\n",
    "            color(couleurs[int(len(couleurs)*(pos[0]-min_x)/(max_x - min_x))])\n",
    "            left(rotation)\n",
    "            forward(longueur_temp)\n",
    "            i +=1\n",
    "        else:\n",
    "            pass\n",
    "            # print(j, i, heading())\n",
    "\n",
    "couleurs = ('red','blue','green','black', \"orange\")\n",
    "speed(10)    \n",
    "width(2)\n",
    "min_x = -400\n",
    "max_x = 400\n",
    "min_y = -100\n",
    "max_y = 100\n",
    "up()\n",
    "setx(min_x)\n",
    "sety(min_y)\n",
    "down()\n",
    "forward(max_x - min_x)\n",
    "left(90)\n",
    "forward(max_y - min_y)\n",
    "left(90)\n",
    "forward(max_x - min_x)\n",
    "left(90)\n",
    "forward(max_y - min_y)\n",
    "up()\n",
    "setx(0)\n",
    "sety(0)\n",
    "down()    \n",
    "    \n",
    "dessiner_mouvement_brownien_dans(200, 50)\n",
    "exitonclick()"
   ]
  },
  {
   "cell_type": "markdown",
   "id": "0534b1cf",
   "metadata": {},
   "source": [
    "### fonction récursive"
   ]
  },
  {
   "cell_type": "code",
   "execution_count": 38,
   "id": "d19ce57c",
   "metadata": {
    "scrolled": false
   },
   "outputs": [
    {
     "name": "stdout",
     "output_type": "stream",
     "text": [
      "factorielle(5) = 120\n",
      "factorielle_recursive(5) = 120\n",
      "temps :  0.0006310939788818359\n",
      "temps :  0.00039649009704589844\n",
      "temps :  0.00017571449279785156\n"
     ]
    }
   ],
   "source": [
    "def factorielle(n):\n",
    "    res = 1\n",
    "    for i in range(2,n+1):\n",
    "        res = res*i\n",
    "    return res\n",
    "\n",
    "print('factorielle(5) =',factorielle(5))\n",
    "\n",
    "def factorielle_recursive(n):\n",
    "    if n==1:\n",
    "        return 1\n",
    "    else:\n",
    "        return n*factorielle_recursive(n-1)\n",
    "    \n",
    "    \n",
    "def factorielle_recursive_2(n):\n",
    "    if n!=1:\n",
    "        return n*factorielle_recursive_2(n-1)\n",
    "    else:\n",
    "        return 1\n",
    "        \n",
    "    \n",
    "print('factorielle_recursive(5) =',factorielle_recursive(5))\n",
    "\n",
    "from time import time\n",
    "\n",
    "\n",
    "start = time()\n",
    "for i in range (20,80):\n",
    "    f = factorielle_recursive(i)\n",
    "    # print('factorielle_recursive',i,'=',f)\n",
    "stop = time()\n",
    "print('temps : ',stop - start)\n",
    "\n",
    "start = time()\n",
    "for i in range (20,80):\n",
    "    f = factorielle_recursive_2(i)\n",
    "    # print('factorielle_recursive_2',i,'=',f)\n",
    "stop = time()\n",
    "print('temps : ',stop - start)\n",
    "\n",
    "start = time()\n",
    "for i in range (20,80):\n",
    "    f = factorielle(i)\n",
    "    # print('factorielle',i,'=',f)\n",
    "stop = time()\n",
    "print('temps : ',stop - start)"
   ]
  },
  {
   "cell_type": "code",
   "execution_count": 8,
   "id": "8590b05d",
   "metadata": {
    "scrolled": false
   },
   "outputs": [],
   "source": [
    "def fractale(deep, length,poly, colors):\n",
    "    if deep > 1:\n",
    "        for i in range(poly):\n",
    "            color(colors[deep%len(colors)])\n",
    "            forward(length)\n",
    "            left(360/poly)\n",
    "            fractale(deep-1, length/2,poly,colors)\n",
    "        \n",
    "tableau_couleur = ('red','blue','green','black', \"orange\")\n",
    "speed(\"fastest\")\n",
    "width(2)\n",
    "poly=3\n",
    "up()\n",
    "sety(-200)\n",
    "down()\n",
    "fractale(5,400,poly,tableau_couleur)\n",
    "exitonclick()"
   ]
  }
 ],
 "metadata": {
  "kernelspec": {
   "display_name": "Python 3 (ipykernel)",
   "language": "python",
   "name": "python3"
  },
  "language_info": {
   "codemirror_mode": {
    "name": "ipython",
    "version": 3
   },
   "file_extension": ".py",
   "mimetype": "text/x-python",
   "name": "python",
   "nbconvert_exporter": "python",
   "pygments_lexer": "ipython3",
   "version": "3.8.11"
  }
 },
 "nbformat": 4,
 "nbformat_minor": 5
}
