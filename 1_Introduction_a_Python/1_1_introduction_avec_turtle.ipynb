{
 "cells": [
  {
   "cell_type": "markdown",
   "id": "5fb784a5",
   "metadata": {},
   "source": [
    "# Introduction à la programmation avec Python"
   ]
  },
  {
   "cell_type": "code",
   "execution_count": 1,
   "id": "712c6386",
   "metadata": {},
   "outputs": [],
   "source": [
    "from turtle import *\n",
    "getscreen()\n",
    "forward(120)\n",
    "left(90)\n",
    "color(\"red\")\n",
    "forward(80)\n",
    "\n",
    "exitonclick()"
   ]
  },
  {
   "cell_type": "markdown",
   "id": "529251a4",
   "metadata": {},
   "source": [
    "### 2 Carré"
   ]
  },
  {
   "cell_type": "code",
   "execution_count": 3,
   "id": "e39199e9",
   "metadata": {},
   "outputs": [],
   "source": [
    "forward(120)\n",
    "left(90)\n",
    "forward(120)\n",
    "left(90)\n",
    "forward(120)\n",
    "left(90)\n",
    "forward(120)\n",
    "exitonclick()"
   ]
  },
  {
   "cell_type": "code",
   "execution_count": 5,
   "id": "17272deb",
   "metadata": {},
   "outputs": [],
   "source": [
    "for _ in range(4):\n",
    "    forward(120)\n",
    "    left(90)\n",
    "\n",
    "exitonclick()"
   ]
  },
  {
   "cell_type": "code",
   "execution_count": 13,
   "id": "52fa03ca",
   "metadata": {},
   "outputs": [],
   "source": [
    "l = 100\n",
    "for _ in range(4):\n",
    "    forward(l)\n",
    "    left(90)\n",
    "\n",
    "exitonclick()"
   ]
  },
  {
   "cell_type": "code",
   "execution_count": 7,
   "id": "6529b098",
   "metadata": {},
   "outputs": [
    {
     "name": "stdout",
     "output_type": "stream",
     "text": [
      "Entrer la longueur du carré :50\n"
     ]
    }
   ],
   "source": [
    "l = int(input(\"Entrer la longueur du carré :\"))\n",
    "for _ in range(4):\n",
    "    forward(l)\n",
    "    left(90)\n",
    "\n",
    "exitonclick()"
   ]
  },
  {
   "cell_type": "markdown",
   "id": "9b4385e3",
   "metadata": {},
   "source": [
    "### 3 : 4 carrés"
   ]
  },
  {
   "cell_type": "code",
   "execution_count": 9,
   "id": "ae3da2e7",
   "metadata": {},
   "outputs": [],
   "source": [
    "for _ in range(4):\n",
    "    for _ in range(4):\n",
    "        forward(100)\n",
    "        left(90)\n",
    "    left(90)\n",
    "exitonclick()"
   ]
  },
  {
   "cell_type": "markdown",
   "id": "334d2a37",
   "metadata": {},
   "source": [
    "### 4 : Carré après rotation"
   ]
  },
  {
   "cell_type": "code",
   "execution_count": 15,
   "id": "2f7a6d88",
   "metadata": {},
   "outputs": [],
   "source": [
    "left(45)\n",
    "width(2)\n",
    "for _ in range(4):\n",
    "    forward(100)\n",
    "    left(90)\n",
    "\n",
    "exitonclick()"
   ]
  },
  {
   "cell_type": "markdown",
   "id": "4e08a211",
   "metadata": {},
   "source": [
    "### 5 : Carré pyramidal"
   ]
  },
  {
   "cell_type": "code",
   "execution_count": 29,
   "id": "d2eb44a9",
   "metadata": {},
   "outputs": [],
   "source": [
    "from math import sqrt\n",
    "speed(1)\n",
    "left(45)\n",
    "width(2)\n",
    "for _ in range(4):\n",
    "    forward(100)\n",
    "    left(90)\n",
    "\n",
    "left(45)\n",
    "forward(sqrt(20000))\n",
    "up()\n",
    "left(135)\n",
    "forward(100)\n",
    "down()\n",
    "left(135)\n",
    "forward(sqrt(20000))\n",
    "exitonclick()"
   ]
  },
  {
   "cell_type": "markdown",
   "id": "64ccca28",
   "metadata": {},
   "source": [
    "### Opérateurs arithmétiques"
   ]
  },
  {
   "cell_type": "code",
   "execution_count": 30,
   "id": "022277f3",
   "metadata": {},
   "outputs": [
    {
     "data": {
      "text/plain": [
       "4.5"
      ]
     },
     "execution_count": 30,
     "metadata": {},
     "output_type": "execute_result"
    }
   ],
   "source": [
    "9/2"
   ]
  },
  {
   "cell_type": "code",
   "execution_count": 31,
   "id": "d1a57b3a",
   "metadata": {},
   "outputs": [
    {
     "data": {
      "text/plain": [
       "4"
      ]
     },
     "execution_count": 31,
     "metadata": {},
     "output_type": "execute_result"
    }
   ],
   "source": [
    "9//2"
   ]
  },
  {
   "cell_type": "code",
   "execution_count": 32,
   "id": "8f8545d6",
   "metadata": {},
   "outputs": [
    {
     "data": {
      "text/plain": [
       "1"
      ]
     },
     "execution_count": 32,
     "metadata": {},
     "output_type": "execute_result"
    }
   ],
   "source": [
    "9%2"
   ]
  },
  {
   "cell_type": "code",
   "execution_count": 33,
   "id": "d987839c",
   "metadata": {},
   "outputs": [
    {
     "name": "stdout",
     "output_type": "stream",
     "text": [
      "9 / 2 = 4 * 2 + 1\n"
     ]
    }
   ],
   "source": [
    "a = 9\n",
    "b = 2\n",
    "print(a,'/',b,'=', a//b,'*',b, '+',a%b)"
   ]
  },
  {
   "cell_type": "code",
   "execution_count": 35,
   "id": "16bac280",
   "metadata": {},
   "outputs": [
    {
     "name": "stdout",
     "output_type": "stream",
     "text": [
      "Numérateur :2\n",
      "Dénominateur :0\n"
     ]
    },
    {
     "ename": "ZeroDivisionError",
     "evalue": "integer division or modulo by zero",
     "output_type": "error",
     "traceback": [
      "\u001b[0;31m---------------------------------------------------------------------------\u001b[0m",
      "\u001b[0;31mZeroDivisionError\u001b[0m                         Traceback (most recent call last)",
      "\u001b[0;32m/tmp/ipykernel_180913/2018209658.py\u001b[0m in \u001b[0;36m<module>\u001b[0;34m\u001b[0m\n\u001b[1;32m      1\u001b[0m \u001b[0ma\u001b[0m \u001b[0;34m=\u001b[0m \u001b[0mint\u001b[0m\u001b[0;34m(\u001b[0m\u001b[0minput\u001b[0m\u001b[0;34m(\u001b[0m\u001b[0;34m\"Numérateur :\"\u001b[0m\u001b[0;34m)\u001b[0m\u001b[0;34m)\u001b[0m\u001b[0;34m\u001b[0m\u001b[0;34m\u001b[0m\u001b[0m\n\u001b[1;32m      2\u001b[0m \u001b[0mb\u001b[0m \u001b[0;34m=\u001b[0m \u001b[0mint\u001b[0m\u001b[0;34m(\u001b[0m\u001b[0minput\u001b[0m\u001b[0;34m(\u001b[0m\u001b[0;34m\"Dénominateur :\"\u001b[0m\u001b[0;34m)\u001b[0m\u001b[0;34m)\u001b[0m\u001b[0;34m\u001b[0m\u001b[0;34m\u001b[0m\u001b[0m\n\u001b[0;32m----> 3\u001b[0;31m \u001b[0mprint\u001b[0m\u001b[0;34m(\u001b[0m\u001b[0ma\u001b[0m\u001b[0;34m,\u001b[0m\u001b[0;34m'/'\u001b[0m\u001b[0;34m,\u001b[0m\u001b[0mb\u001b[0m\u001b[0;34m,\u001b[0m\u001b[0;34m'='\u001b[0m\u001b[0;34m,\u001b[0m \u001b[0ma\u001b[0m\u001b[0;34m//\u001b[0m\u001b[0mb\u001b[0m\u001b[0;34m,\u001b[0m\u001b[0;34m'*'\u001b[0m\u001b[0;34m,\u001b[0m\u001b[0mb\u001b[0m\u001b[0;34m,\u001b[0m \u001b[0;34m'+'\u001b[0m\u001b[0;34m,\u001b[0m\u001b[0ma\u001b[0m\u001b[0;34m%\u001b[0m\u001b[0mb\u001b[0m\u001b[0;34m)\u001b[0m\u001b[0;34m\u001b[0m\u001b[0;34m\u001b[0m\u001b[0m\n\u001b[0m",
      "\u001b[0;31mZeroDivisionError\u001b[0m: integer division or modulo by zero"
     ]
    }
   ],
   "source": [
    "a = int(input(\"Numérateur :\"))\n",
    "b = int(input(\"Dénominateur :\"))\n",
    "print(a,'/',b,'=', a//b,'*',b, '+',a%b)"
   ]
  },
  {
   "cell_type": "markdown",
   "id": "d5f78aee",
   "metadata": {},
   "source": [
    "### Fonctions"
   ]
  },
  {
   "cell_type": "code",
   "execution_count": null,
   "id": "080387bd",
   "metadata": {},
   "outputs": [],
   "source": [
    "def div_entiere_et_modulo(a,b):\n",
    "    print(a,'/',b,'=', a//b,'*',b, '+',a%b)\n",
    "    \n",
    "div_entiere_et_modulo(13,3)"
   ]
  },
  {
   "cell_type": "code",
   "execution_count": 38,
   "id": "792def50",
   "metadata": {},
   "outputs": [
    {
     "data": {
      "text/plain": [
       "12"
      ]
     },
     "execution_count": 38,
     "metadata": {},
     "output_type": "execute_result"
    }
   ],
   "source": [
    "3 *4"
   ]
  },
  {
   "cell_type": "code",
   "execution_count": 39,
   "id": "d4c4d376",
   "metadata": {},
   "outputs": [
    {
     "name": "stdout",
     "output_type": "stream",
     "text": [
      "0 * 7 = 0\n",
      "1 * 7 = 7\n",
      "2 * 7 = 14\n",
      "3 * 7 = 21\n",
      "4 * 7 = 28\n",
      "5 * 7 = 35\n",
      "6 * 7 = 42\n",
      "7 * 7 = 49\n",
      "8 * 7 = 56\n",
      "9 * 7 = 63\n",
      "10 * 7 = 70\n"
     ]
    }
   ],
   "source": [
    "a = 7\n",
    "for i in range(11):\n",
    "    print(i,'*',a,'=',i*a)"
   ]
  },
  {
   "cell_type": "code",
   "execution_count": 41,
   "id": "8903ef37",
   "metadata": {},
   "outputs": [
    {
     "name": "stdout",
     "output_type": "stream",
     "text": [
      "Table de multiplication de 8\n",
      "0 * 8 = 0\n",
      "1 * 8 = 8\n",
      "2 * 8 = 16\n",
      "3 * 8 = 24\n",
      "4 * 8 = 32\n",
      "5 * 8 = 40\n",
      "6 * 8 = 48\n",
      "7 * 8 = 56\n",
      "8 * 8 = 64\n",
      "9 * 8 = 72\n",
      "10 * 8 = 80\n"
     ]
    }
   ],
   "source": [
    "def table_de_multiplication(a):\n",
    "    print('Table de multiplication de',a)\n",
    "    for i in range(11):\n",
    "        print(i,'*',a,'=',i*a)\n",
    "    \n",
    "table_de_multiplication(8)"
   ]
  },
  {
   "cell_type": "code",
   "execution_count": 2,
   "id": "28b1a30a",
   "metadata": {},
   "outputs": [],
   "source": [
    "def f(x):\n",
    "    # return 3*x*x+2*x+1\n",
    "    return (x-1)*(x-2)\n",
    "\n"
   ]
  },
  {
   "cell_type": "code",
   "execution_count": 5,
   "id": "45ff352c",
   "metadata": {},
   "outputs": [
    {
     "data": {
      "image/png": "[encoded data removed]",
      "text/plain": [
       "<Figure size 432x288 with 1 Axes>"
      ]
     },
     "metadata": {
      "needs_background": "light"
     },
     "output_type": "display_data"
    }
   ],
   "source": [
    "%matplotlib inline \n",
    "import matplotlib.pyplot as plt\n",
    "import numpy as np\n",
    "min = -1\n",
    "max = 3\n",
    "X = np.linspace(min,max,100)\n",
    "Y = [f(x) for x in X]\n",
    "zeros= [0 for x in X]\n",
    "# min_y = np.min(Y)\n",
    "# max_y = np.max(Y)\n",
    "# axes = plt.gca()\n",
    "# plt.plot(X,zeros,color='black')\n",
    "# plt.plot(zeros,np.linspace(min_y,max_y,100),color='black')\n",
    "plt.plot(X, Y)\n",
    "plt.grid(True)"
   ]
  },
  {
   "cell_type": "code",
   "execution_count": null,
   "id": "8ed7c7ba",
   "metadata": {},
   "outputs": [],
   "source": []
  }
 ],
 "metadata": {
  "kernelspec": {
   "display_name": "Python 3 (ipykernel)",
   "language": "python",
   "name": "python3"
  },
  "language_info": {
   "codemirror_mode": {
    "name": "ipython",
    "version": 3
   },
   "file_extension": ".py",
   "mimetype": "text/x-python",
   "name": "python",
   "nbconvert_exporter": "python",
   "pygments_lexer": "ipython3",
   "version": "3.8.11"
  }
 },
 "nbformat": 4,
 "nbformat_minor": 5
}
