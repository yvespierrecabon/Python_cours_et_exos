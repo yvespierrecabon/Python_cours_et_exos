{
 "cells": [
  {
   "cell_type": "markdown",
   "id": "85c4bbb6",
   "metadata": {},
   "source": [
    "## introduction aux concepts de base de la programmation avec Python"
   ]
  },
  {
   "cell_type": "markdown",
   "id": "0cdedca2",
   "metadata": {},
   "source": [
    "### fonctions et procédures   RPG =>Subprocedures"
   ]
  },
  {
   "cell_type": "code",
   "execution_count": 15,
   "id": "73b72dbb",
   "metadata": {
    "scrolled": true
   },
   "outputs": [
    {
     "name": "stdout",
     "output_type": "stream",
     "text": [
      "Table de multiplication de 4\n",
      "0 * 4  = 0\n",
      "1 * 4  = 4\n",
      "2 * 4  = 8\n",
      "3 * 4  = 12\n",
      "4 * 4  = 16\n",
      "5 * 4  = 20\n",
      "6 * 4  = 24\n",
      "7 * 4  = 28\n",
      "8 * 4  = 32\n",
      "9 * 4  = 36\n",
      "10 * 4  = 40\n"
     ]
    }
   ],
   "source": [
    "# ajouter la variable n\n",
    "n = 4\n",
    "print('Table de multiplication de',n)\n",
    "for a in range(0,11):\n",
    "    print(a ,'*',n,' =',n*a)"
   ]
  },
  {
   "cell_type": "markdown",
   "id": "9749ab40",
   "metadata": {},
   "source": [
    "#### Procédure"
   ]
  },
  {
   "cell_type": "code",
   "execution_count": 2,
   "id": "5dd3f1a4",
   "metadata": {
    "scrolled": false
   },
   "outputs": [
    {
     "name": "stdout",
     "output_type": "stream",
     "text": [
      "\n",
      "Table de multiplication de 3\n",
      "0 * 3  = 0\n",
      "1 * 3  = 3\n",
      "2 * 3  = 6\n",
      "3 * 3  = 9\n",
      "4 * 3  = 12\n",
      "5 * 3  = 15\n",
      "6 * 3  = 18\n",
      "7 * 3  = 21\n",
      "8 * 3  = 24\n",
      "9 * 3  = 27\n",
      "10 * 3  = 30\n",
      "\n",
      "Table de multiplication de 4\n",
      "0 * 4  = 0\n",
      "1 * 4  = 4\n",
      "2 * 4  = 8\n",
      "3 * 4  = 12\n",
      "4 * 4  = 16\n",
      "5 * 4  = 20\n",
      "6 * 4  = 24\n",
      "7 * 4  = 28\n",
      "8 * 4  = 32\n",
      "9 * 4  = 36\n",
      "10 * 4  = 40\n"
     ]
    }
   ],
   "source": [
    "def table_multiplication(n):\n",
    "    print('')\n",
    "    print('Table de multiplication de',n)\n",
    "    for a in range(0,11):\n",
    "        print(a ,'*',n,' =',n*a)\n",
    "\n",
    "table_multiplication(3)\n",
    "table_multiplication(4)"
   ]
  },
  {
   "cell_type": "markdown",
   "id": "5d623548",
   "metadata": {},
   "source": [
    "#### fonction"
   ]
  },
  {
   "cell_type": "code",
   "execution_count": 3,
   "id": "1e9da2de",
   "metadata": {
    "scrolled": false
   },
   "outputs": [
    {
     "name": "stdout",
     "output_type": "stream",
     "text": [
      "3*4 =  12\n"
     ]
    }
   ],
   "source": [
    "def multiplication(a,b):\n",
    "    return a*b\n",
    "\n",
    "print('3*4 = ',multiplication(3,4))\n"
   ]
  },
  {
   "cell_type": "markdown",
   "id": "77bae973",
   "metadata": {},
   "source": [
    "Une fonction ou une procédure ne prend pas obligatoirement de paramêtre en entrée"
   ]
  },
  {
   "cell_type": "code",
   "execution_count": 10,
   "id": "78d0ba5f",
   "metadata": {
    "scrolled": false
   },
   "outputs": [
    {
     "name": "stdout",
     "output_type": "stream",
     "text": [
      "2022-02-15 16:48:20.592122\n",
      "2022\n"
     ]
    }
   ],
   "source": [
    "import datetime\n",
    "\n",
    "def affiche_la_date():\n",
    "    x = datetime.datetime.now()\n",
    "    print(x)\n",
    "    print(x.year)\n",
    "    \n",
    "affiche_la_date()"
   ]
  },
  {
   "cell_type": "markdown",
   "id": "3adc29c2",
   "metadata": {},
   "source": [
    "### Exemples de fonctions"
   ]
  },
  {
   "cell_type": "markdown",
   "id": "ff49463a",
   "metadata": {},
   "source": [
    "## Emploi de la tortue graphique"
   ]
  },
  {
   "cell_type": "code",
   "execution_count": 1,
   "id": "52706892",
   "metadata": {
    "scrolled": false
   },
   "outputs": [],
   "source": [
    "from turtle import *\n",
    "\n",
    "forward(100)\n",
    "right(45)\n",
    "color('green')\n",
    "\n",
    "forward(100)\n",
    "left(90)\n",
    "color('red')\n",
    "forward(100)\n",
    "exitonclick()"
   ]
  },
  {
   "cell_type": "code",
   "execution_count": 4,
   "id": "596571db",
   "metadata": {
    "scrolled": false
   },
   "outputs": [],
   "source": [
    "width(2)\n",
    "for i in range(20):\n",
    "    length = 50 + 10*i\n",
    "    forward(length)\n",
    "    left(72)\n",
    "exitonclick()"
   ]
  },
  {
   "cell_type": "code",
   "execution_count": 13,
   "id": "60bfba06",
   "metadata": {
    "scrolled": false
   },
   "outputs": [],
   "source": [
    "length=0\n",
    "i = 0\n",
    "while length < 250:\n",
    "    length = 50 + 10*i\n",
    "    forward(length)\n",
    "    left(72)\n",
    "    i = i+1\n",
    "exitonclick()"
   ]
  },
  {
   "cell_type": "code",
   "execution_count": 7,
   "id": "e3f4a340",
   "metadata": {
    "scrolled": false
   },
   "outputs": [],
   "source": [
    "def dessiner_escargot_1(nb_segments, longueur_initiale):\n",
    "    for i in range(nb_segments):\n",
    "        length = longueur_initiale + 10*i\n",
    "        forward(length)\n",
    "        left(72)\n",
    "    exitonclick()\n",
    "    \n",
    "    \n",
    "def dessiner_escargot_2(nb_segments, longueur_initiale):\n",
    "    tableau_couleur = ('red','blue','green','black', \"orange\")\n",
    "    for i in range(nb_segments):\n",
    "        length = longueur_initiale + 10*i\n",
    "        color(tableau_couleur[i%len(tableau_couleur)])\n",
    "        width(i)\n",
    "        forward(length)\n",
    "        left(72)\n",
    "    exitonclick()\n"
   ]
  },
  {
   "cell_type": "code",
   "execution_count": 8,
   "id": "ace536c9",
   "metadata": {
    "scrolled": false
   },
   "outputs": [],
   "source": [
    "dessiner_escargot_1(15, 50)"
   ]
  },
  {
   "cell_type": "code",
   "execution_count": 24,
   "id": "cdf79692",
   "metadata": {
    "scrolled": false
   },
   "outputs": [],
   "source": [
    "dessiner_escargot_2(15, 50)"
   ]
  }
 ],
 "metadata": {
  "kernelspec": {
   "display_name": "Python 3 (ipykernel)",
   "language": "python",
   "name": "python3"
  },
  "language_info": {
   "codemirror_mode": {
    "name": "ipython",
    "version": 3
   },
   "file_extension": ".py",
   "mimetype": "text/x-python",
   "name": "python",
   "nbconvert_exporter": "python",
   "pygments_lexer": "ipython3",
   "version": "3.8.11"
  }
 },
 "nbformat": 4,
 "nbformat_minor": 5
}
