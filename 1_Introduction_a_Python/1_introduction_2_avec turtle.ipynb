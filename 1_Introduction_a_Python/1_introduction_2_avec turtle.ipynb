{
 "cells": [
  {
   "cell_type": "markdown",
   "id": "1418a7e5",
   "metadata": {},
   "source": [
    "### boucle for et while"
   ]
  },
  {
   "cell_type": "code",
   "execution_count": 9,
   "id": "1a4c39cc",
   "metadata": {},
   "outputs": [
    {
     "name": "stdout",
     "output_type": "stream",
     "text": [
      "0\n",
      "1\n",
      "2\n",
      "3\n",
      "4\n",
      "5\n",
      "6\n",
      "7\n",
      "8\n",
      "9\n",
      "10\n",
      "[0, 2, 4, 6, 8, 10, 12, 14, 16, 18, 20]\n",
      "0\n",
      "4\n",
      "8\n",
      "12\n",
      "16\n",
      "20\n",
      "24\n",
      "28\n",
      "32\n",
      "36\n",
      "40\n"
     ]
    }
   ],
   "source": [
    "for i in range(11):\n",
    "    print(i)\n",
    "\n",
    "X = [j*2 for j in range(11)]\n",
    "print(X)\n",
    "\n",
    "for k  in X:\n",
    "   print(2*k)"
   ]
  },
  {
   "cell_type": "code",
   "execution_count": 11,
   "id": "668d2e02",
   "metadata": {},
   "outputs": [
    {
     "name": "stdout",
     "output_type": "stream",
     "text": [
      "0 1 2 3 4 5 6 7 8 9 10 "
     ]
    }
   ],
   "source": [
    "i = 0\n",
    "while i < 11:\n",
    "    print(i, end=' ')\n",
    "    i +=1"
   ]
  },
  {
   "cell_type": "code",
   "execution_count": 13,
   "id": "af9b1c14",
   "metadata": {},
   "outputs": [
    {
     "name": "stdout",
     "output_type": "stream",
     "text": [
      "0 2 4 6 8 10 "
     ]
    }
   ],
   "source": [
    "for i in range(11):\n",
    "    if i%2==0:\n",
    "        print(i, end=' ')"
   ]
  },
  {
   "cell_type": "code",
   "execution_count": 14,
   "id": "02240253",
   "metadata": {},
   "outputs": [
    {
     "name": "stdout",
     "output_type": "stream",
     "text": [
      "0 10 2 30 4 50 6 70 8 90 10 "
     ]
    }
   ],
   "source": [
    "for i in range(11):\n",
    "    if i%2==0:\n",
    "        print(i, end=' ')\n",
    "    else:\n",
    "        print(10*i, end=' ')"
   ]
  },
  {
   "cell_type": "code",
   "execution_count": 15,
   "id": "dc89e00c",
   "metadata": {},
   "outputs": [
    {
     "name": "stdout",
     "output_type": "stream",
     "text": [
      "0\n",
      "10\n",
      "2\n",
      "30\n",
      "4\n",
      "500\n",
      "6\n",
      "70\n",
      "8\n",
      "90\n",
      "10\n"
     ]
    }
   ],
   "source": [
    "for i in range(11):\n",
    "    if i%2==0:\n",
    "        print(i)\n",
    "    elif i == 5:\n",
    "        print(100*i)\n",
    "    else:\n",
    "        print(10*i)"
   ]
  },
  {
   "cell_type": "markdown",
   "id": "a4dcc0f0",
   "metadata": {},
   "source": [
    "### Application graphique avec Turtle"
   ]
  },
  {
   "cell_type": "code",
   "execution_count": null,
   "id": "89574ee4",
   "metadata": {},
   "outputs": [],
   "source": [
    "from turtle import *"
   ]
  },
  {
   "cell_type": "code",
   "execution_count": 44,
   "id": "637a2212",
   "metadata": {},
   "outputs": [],
   "source": [
    "def carre(x,y,l):\n",
    "    up()\n",
    "    goto(x,y)\n",
    "    setheading(0)\n",
    "    down()\n",
    "    for _ in range(4):\n",
    "        forward(l)\n",
    "        left(90)\n",
    "        \n",
    "        \n",
    "        \n",
    "color('red')\n",
    "x0 = -400\n",
    "l = 60\n",
    "for x in range(10):\n",
    "    carre(x0,0,l)\n",
    "    x0 += l + 10\n",
    "        \n",
    "exitonclick()"
   ]
  },
  {
   "cell_type": "code",
   "execution_count": 31,
   "id": "b1fd23af",
   "metadata": {},
   "outputs": [],
   "source": [
    "x0 = -400\n",
    "l = 60\n",
    "\n",
    "for x in range(10):\n",
    "    if x%2==0:\n",
    "        carre(x0,0,l)\n",
    "        x0 += l + 10\n",
    "    else:\n",
    "        carre(x0,0,l/2)\n",
    "        x0+=l/2 + 10\n",
    "        \n",
    "exitonclick()"
   ]
  },
  {
   "cell_type": "markdown",
   "id": "975e784a",
   "metadata": {},
   "source": [
    "#### carrés croissants"
   ]
  },
  {
   "cell_type": "code",
   "execution_count": 42,
   "id": "4f6535c4",
   "metadata": {},
   "outputs": [],
   "source": [
    "\n",
    "x0 =-400\n",
    "for x in range(2,13):\n",
    "    carre(x0, 0, 10*x)\n",
    "    x0 += 10*x +10\n",
    "    \n",
    "exitonclick()"
   ]
  },
  {
   "cell_type": "markdown",
   "id": "b282927d",
   "metadata": {},
   "source": [
    "#### plateau"
   ]
  },
  {
   "cell_type": "code",
   "execution_count": 66,
   "id": "7be6c96e",
   "metadata": {},
   "outputs": [],
   "source": [
    "speed(0)\n",
    "color(\"#33cc8c\")\n",
    "# x0 = -300\n",
    "y0 = -300\n",
    "l = 60\n",
    "for y in range(8):\n",
    "    x0 = -300\n",
    "    for x in range(8):\n",
    "        carre(x0,y0,l)\n",
    "        x0 += l + 10\n",
    "    y0 += l + 10\n",
    "        \n",
    "exitonclick()"
   ]
  },
  {
   "cell_type": "markdown",
   "id": "d33f83d9",
   "metadata": {},
   "source": [
    "#### plateau coloré"
   ]
  },
  {
   "cell_type": "code",
   "execution_count": null,
   "id": "15426d57",
   "metadata": {},
   "outputs": [],
   "source": [
    "speed(0)\n",
    "color('black')\n",
    "# x0 = -300\n",
    "y0 = -300\n",
    "l = 60\n",
    "for y in range(8):\n",
    "    x0 = -300\n",
    "    for x in range(8):\n",
    "        if x + y == 7:\n",
    "            color('black','red')\n",
    "        elif x == y:\n",
    "            color('black','yellow')\n",
    "        else:\n",
    "            color('black','purple')\n",
    "        begin_fill()\n",
    "        carre(x0,y0,l)\n",
    "        end_fill()\n",
    "        x0 += l + 10\n",
    "    y0 += l + 10\n",
    "        \n",
    "exitonclick()"
   ]
  },
  {
   "cell_type": "code",
   "execution_count": null,
   "id": "c12655b4",
   "metadata": {},
   "outputs": [],
   "source": [
    "### Dégradé de couleur"
   ]
  },
  {
   "cell_type": "code",
   "execution_count": 95,
   "id": "66d3137a",
   "metadata": {},
   "outputs": [],
   "source": [
    "speed(0)\n",
    "color('black')\n",
    "# x0 = -300\n",
    "y0 = -300\n",
    "l = 60\n",
    "cy = 255\n",
    "colormode(255)\n",
    "for y in range(8):\n",
    "    x0 = -300\n",
    "    cy -=20\n",
    "    cx = 1\n",
    "    for x in range(8):\n",
    "        cx+=20\n",
    "        fillcolor((cx,cy,128))\n",
    "        # fillcolor('#33ff11')\n",
    "        begin_fill()\n",
    "        carre(x0,y0,l)\n",
    "        end_fill()\n",
    "        x0 += l + 10\n",
    "    y0 += l + 10\n",
    "        \n",
    "exitonclick()"
   ]
  },
  {
   "cell_type": "code",
   "execution_count": 97,
   "id": "0247a0b6",
   "metadata": {},
   "outputs": [],
   "source": [
    "from random import randint\n",
    "speed(0)\n",
    "color('black')\n",
    "y0 = -300\n",
    "l = 60\n",
    "colormode(255)\n",
    "for y in range(8):\n",
    "    x0 = -300\n",
    "    for x in range(8):\n",
    "        fillcolor((randint(0,255),randint(0,255),randint(0,255)))\n",
    "        begin_fill()\n",
    "        carre(x0,y0,l)\n",
    "        end_fill()\n",
    "        x0 += l + 10\n",
    "    y0 += l + 10\n",
    "        \n",
    "exitonclick()"
   ]
  },
  {
   "cell_type": "code",
   "execution_count": null,
   "id": "d815580b",
   "metadata": {},
   "outputs": [],
   "source": []
  }
 ],
 "metadata": {
  "kernelspec": {
   "display_name": "Python 3 (ipykernel)",
   "language": "python",
   "name": "python3"
  },
  "language_info": {
   "codemirror_mode": {
    "name": "ipython",
    "version": 3
   },
   "file_extension": ".py",
   "mimetype": "text/x-python",
   "name": "python",
   "nbconvert_exporter": "python",
   "pygments_lexer": "ipython3",
   "version": "3.8.11"
  }
 },
 "nbformat": 4,
 "nbformat_minor": 5
}
