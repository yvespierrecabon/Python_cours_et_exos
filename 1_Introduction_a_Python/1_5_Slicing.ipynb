{
 "cells": [
  {
   "cell_type": "code",
   "execution_count": 2,
   "id": "015c3ee8-de48-43d1-97a9-6ed691323964",
   "metadata": {},
   "outputs": [
    {
     "name": "stdout",
     "output_type": "stream",
     "text": [
      "[0, 1, 2]\n"
     ]
    }
   ],
   "source": [
    "l1 = [0,1,2,3,4,5,6,7,8,9]\n",
    "l2 = l1[:3]\n",
    "print(l2)\n"
   ]
  },
  {
   "cell_type": "code",
   "execution_count": 3,
   "id": "a5f0ebfd-f5c4-4d91-9e2e-8d0fbb494021",
   "metadata": {},
   "outputs": [
    {
     "name": "stdout",
     "output_type": "stream",
     "text": [
      "[2, 3]\n"
     ]
    }
   ],
   "source": [
    "print(l1[2:4])"
   ]
  },
  {
   "cell_type": "code",
   "execution_count": 4,
   "id": "c140e8b5-3233-47b7-951e-a8afaa1d7935",
   "metadata": {},
   "outputs": [
    {
     "name": "stdout",
     "output_type": "stream",
     "text": [
      "[4, 5, 6, 7, 8, 9]\n"
     ]
    }
   ],
   "source": [
    "print(l1[4:])"
   ]
  },
  {
   "cell_type": "code",
   "execution_count": 6,
   "id": "0893e1be-06e0-4dd9-9efe-83f3ddcca304",
   "metadata": {},
   "outputs": [
    {
     "name": "stdout",
     "output_type": "stream",
     "text": [
      "[0, 1, 2, 3, 4, 5, 6, 7]\n"
     ]
    }
   ],
   "source": [
    "print(l1[:-2])"
   ]
  },
  {
   "cell_type": "code",
   "execution_count": 7,
   "id": "4242e64e-daa4-446a-94ae-d84236119af9",
   "metadata": {},
   "outputs": [
    {
     "name": "stdout",
     "output_type": "stream",
     "text": [
      "[4, 6, 8]\n"
     ]
    }
   ],
   "source": [
    "print(l1[4::2])"
   ]
  },
  {
   "cell_type": "code",
   "execution_count": 8,
   "id": "80865e64-dc1f-4ba4-8857-af411866451d",
   "metadata": {},
   "outputs": [
    {
     "name": "stdout",
     "output_type": "stream",
     "text": [
      "[4, 2, 0]\n"
     ]
    }
   ],
   "source": [
    "print(l1[4::-2])"
   ]
  },
  {
   "cell_type": "code",
   "execution_count": 9,
   "id": "0c8e8fcd-e439-4ec3-8524-0ed3ae277699",
   "metadata": {},
   "outputs": [
    {
     "name": "stdout",
     "output_type": "stream",
     "text": [
      "[9, 8, 7, 6, 5, 4, 3, 2, 1, 0]\n"
     ]
    }
   ],
   "source": [
    "print(l1[::-1])"
   ]
  },
  {
   "cell_type": "code",
   "execution_count": 32,
   "id": "204c206f-5f7c-42b2-a515-07a4c730996d",
   "metadata": {},
   "outputs": [
    {
     "name": "stdout",
     "output_type": "stream",
     "text": [
      "[[0, 1, 2, 3], [4, 5, 6, 7], [8, 9, 10, 11]]\n"
     ]
    }
   ],
   "source": [
    "m1=[[0,1,2,3],[4,5,6,7],[8,9,10,11]]\n",
    "print(m1)"
   ]
  },
  {
   "cell_type": "code",
   "execution_count": 26,
   "id": "90f46c93-b7d6-4015-9001-b9787cfc9360",
   "metadata": {},
   "outputs": [
    {
     "name": "stdout",
     "output_type": "stream",
     "text": [
      "[4, 5, 6, 7]\n",
      "[4, 5, 6, 7]\n"
     ]
    }
   ],
   "source": [
    "print(m1[:][1])\n",
    "print(m1[1][:])"
   ]
  },
  {
   "cell_type": "code",
   "execution_count": 27,
   "id": "eac9305b-bd08-42fd-a966-4c4972cdb744",
   "metadata": {},
   "outputs": [
    {
     "name": "stdout",
     "output_type": "stream",
     "text": [
      "[[0, 1, 2, 3], [4, 5, 6, 7], [8, 9, 10, 11]]\n"
     ]
    }
   ],
   "source": [
    "print(m1[:])"
   ]
  },
  {
   "cell_type": "code",
   "execution_count": 28,
   "id": "ebf7a475-cbf8-4093-bbb0-b22ab65cd39e",
   "metadata": {},
   "outputs": [
    {
     "name": "stdout",
     "output_type": "stream",
     "text": [
      "[1, 5, 9]\n"
     ]
    }
   ],
   "source": [
    "print([x[1] for x in m1])"
   ]
  },
  {
   "cell_type": "code",
   "execution_count": 33,
   "id": "c9e43297-458f-4f26-9e42-20cc17d37e11",
   "metadata": {},
   "outputs": [
    {
     "name": "stdout",
     "output_type": "stream",
     "text": [
      "[[ 0  1  2  3]\n",
      " [ 4  5  6  7]\n",
      " [ 8  9 10 11]]\n"
     ]
    }
   ],
   "source": [
    "import numpy as np\n",
    "m2 = np.array(m1)\n",
    "print(m2)"
   ]
  },
  {
   "cell_type": "code",
   "execution_count": 34,
   "id": "a0fbf21c-11b9-4414-b8db-57b2a92d8048",
   "metadata": {},
   "outputs": [
    {
     "name": "stdout",
     "output_type": "stream",
     "text": [
      "[1 5 9]\n"
     ]
    }
   ],
   "source": [
    "print(m2[:,1])"
   ]
  },
  {
   "cell_type": "code",
   "execution_count": 31,
   "id": "92c0f38d-9dc2-4b3e-83b6-370fb8118ae6",
   "metadata": {},
   "outputs": [
    {
     "name": "stdout",
     "output_type": "stream",
     "text": [
      "[[ 5  6]\n",
      " [ 9 10]]\n"
     ]
    }
   ],
   "source": [
    "print(m2[1:3,1:3])"
   ]
  },
  {
   "cell_type": "code",
   "execution_count": 35,
   "id": "39332b6e-c068-4073-a94a-54c97fbbf6bd",
   "metadata": {},
   "outputs": [
    {
     "name": "stdout",
     "output_type": "stream",
     "text": [
      "[4 5 6 7]\n"
     ]
    }
   ],
   "source": [
    "print(m2[1])"
   ]
  },
  {
   "cell_type": "code",
   "execution_count": 45,
   "id": "353538db-88a4-4d1f-b10f-9b125afa4f19",
   "metadata": {},
   "outputs": [
    {
     "name": "stdout",
     "output_type": "stream",
     "text": [
      "[[0, 1, 2, 3], [4, 5, 6, 7], [8, 9, 10, 11], [0, 1, 2, 3], [4, 5, 6, 7], [8, 9, 10, 11]]\n"
     ]
    }
   ],
   "source": [
    "print(m1*2)"
   ]
  },
  {
   "cell_type": "code",
   "execution_count": 46,
   "id": "149b98c1-1ebd-446b-bdef-e6b0b38a6a48",
   "metadata": {},
   "outputs": [
    {
     "name": "stdout",
     "output_type": "stream",
     "text": [
      "[[ 0  2  4  6]\n",
      " [ 8 10 12 14]\n",
      " [16 18 20 22]]\n"
     ]
    }
   ],
   "source": [
    "print(m2*2)"
   ]
  },
  {
   "cell_type": "code",
   "execution_count": 40,
   "id": "fcedd780-8afc-43c7-9da8-a287364be244",
   "metadata": {},
   "outputs": [
    {
     "name": "stdout",
     "output_type": "stream",
     "text": [
      "120\n"
     ]
    }
   ],
   "source": [
    "from math import prod\n",
    "def fact(n):\n",
    "    return prod([x for x in range(1,n+1)])\n",
    "print(fact(5))"
   ]
  },
  {
   "cell_type": "code",
   "execution_count": 44,
   "id": "acf720ee-8b78-42d0-aa8c-8b2cbe3e9506",
   "metadata": {},
   "outputs": [
    {
     "name": "stdout",
     "output_type": "stream",
     "text": [
      "[0, 1, 2, 0, 1, 2, 0, 1, 2, 0, 1, 2, 0, 1, 2, 0, 1, 2, 0, 1, 2, 0, 1, 2, 0, 1, 2, 0, 1, 2]\n"
     ]
    }
   ],
   "source": [
    "print([y for x in range(10)  for y in range(3) if x%2==0]*2)\n"
   ]
  },
  {
   "cell_type": "code",
   "execution_count": null,
   "id": "bdfd629c-f955-49e5-b40a-6d1ed7e38a53",
   "metadata": {},
   "outputs": [],
   "source": []
  }
 ],
 "metadata": {
  "kernelspec": {
   "display_name": "Python 3 (ipykernel)",
   "language": "python",
   "name": "python3"
  },
  "language_info": {
   "codemirror_mode": {
    "name": "ipython",
    "version": 3
   },
   "file_extension": ".py",
   "mimetype": "text/x-python",
   "name": "python",
   "nbconvert_exporter": "python",
   "pygments_lexer": "ipython3",
   "version": "3.11.6"
  }
 },
 "nbformat": 4,
 "nbformat_minor": 5
}
