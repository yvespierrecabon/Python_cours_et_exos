{
 "cells": [
  {
   "cell_type": "markdown",
   "id": "4be02b06",
   "metadata": {},
   "source": [
    "## Piles"
   ]
  },
  {
   "cell_type": "code",
   "execution_count": 1,
   "id": "d5d4647f",
   "metadata": {},
   "outputs": [],
   "source": [
    "def creer_pile_vide():\n",
    "    return []\n",
    "\n",
    "\n",
    "def est_vide_pile(p:list)->bool:\n",
    "    return len(p)==0\n",
    "\n",
    "\n",
    "def empiler(p:list, e:int):\n",
    "    p.append(e)\n",
    "    \n",
    "    \n",
    "def depiler(p:list)->int:\n",
    "    return p.pop()\n",
    "\n",
    "\n",
    "def afficher_pile(p:list):\n",
    "    if not est_vide_pile(p):\n",
    "        for i in range(len(p)-1,-1,-1):\n",
    "            print(p[i])\n",
    "        print('')\n",
    "    else:\n",
    "        print('Pile vide')\n",
    "        \n",
    "def vider_pile(p:list):\n",
    "    p.clear()\n",
    "    \n",
    "def hauteur_pile(p:list):\n",
    "    return len(p)"
   ]
  },
  {
   "cell_type": "markdown",
   "id": "2e828ffc",
   "metadata": {},
   "source": [
    "### Q1"
   ]
  },
  {
   "cell_type": "code",
   "execution_count": 2,
   "id": "d469c1a8",
   "metadata": {},
   "outputs": [
    {
     "name": "stdout",
     "output_type": "stream",
     "text": [
      "4\n",
      "2\n",
      "5\n",
      "8\n",
      "\n"
     ]
    }
   ],
   "source": [
    "P = creer_pile_vide()\n",
    "empiler(P,8)\n",
    "empiler(P,5)\n",
    "empiler(P,2)\n",
    "empiler(P,4)\n",
    "afficher_pile(P)"
   ]
  },
  {
   "cell_type": "code",
   "execution_count": 3,
   "id": "580af73a",
   "metadata": {},
   "outputs": [
    {
     "name": "stdout",
     "output_type": "stream",
     "text": [
      "8\n",
      "5\n",
      "2\n",
      "4\n",
      "\n"
     ]
    }
   ],
   "source": [
    "Q = creer_pile_vide()\n",
    "while not est_vide_pile(P):\n",
    "    empiler(Q, depiler(P))\n",
    "afficher_pile(Q)"
   ]
  },
  {
   "cell_type": "markdown",
   "id": "9729c02b",
   "metadata": {},
   "source": [
    "### Q2"
   ]
  },
  {
   "cell_type": "markdown",
   "id": "3147d646",
   "metadata": {},
   "source": [
    "#### 1 : Hauteur"
   ]
  },
  {
   "cell_type": "code",
   "execution_count": 4,
   "id": "1dd79727",
   "metadata": {},
   "outputs": [
    {
     "name": "stdout",
     "output_type": "stream",
     "text": [
      "Pile vide\n",
      "4\n",
      "2\n",
      "5\n",
      "8\n",
      "\n",
      "4\n"
     ]
    }
   ],
   "source": [
    "def hauteur_pile_ ( P:list )->int:\n",
    "    Q = creer_pile_vide ()\n",
    "    n = 0\n",
    "    while not ( est_vide_pile ( P )):\n",
    "        n+=1\n",
    "        x = depiler ( P )\n",
    "        # print(x,'est dépilé de P')\n",
    "        empiler (Q , x )\n",
    "        # print(x,'est empilé sur Q')\n",
    "    # print('P est vide')\n",
    "    while not ( est_vide_pile ( Q )):\n",
    "        x = depiler(Q)\n",
    "        # print(x,'est dépilé de Q')\n",
    "        # print(x,'est empilé sur Q')\n",
    "        empiler (P , x )\n",
    "        # print(x,'est empilé sur Q')\n",
    "    # print('Q est vide')\n",
    "    return n\n",
    "\n",
    "vider_pile(P)\n",
    "afficher_pile(P)\n",
    "\n",
    "empiler(P,8)\n",
    "empiler(P,5)\n",
    "empiler(P,2)\n",
    "empiler(P,4)\n",
    "afficher_pile(P)\n",
    "\n",
    "print(hauteur_pile_(P))"
   ]
  },
  {
   "cell_type": "markdown",
   "id": "4cc1f421",
   "metadata": {},
   "source": [
    "#### 2 : Max_pile"
   ]
  },
  {
   "cell_type": "code",
   "execution_count": 5,
   "id": "b0c61138",
   "metadata": {},
   "outputs": [
    {
     "name": "stdout",
     "output_type": "stream",
     "text": [
      "4\n",
      "2\n",
      "5\n",
      "8\n",
      "\n",
      "max_pile 4\n",
      "4\n",
      "2\n",
      "5\n",
      "8\n",
      "\n"
     ]
    }
   ],
   "source": [
    "def max_pile(p:list, i:int)->int:\n",
    "    max_val = 0\n",
    "    max_indice=0\n",
    "    Q = creer_pile_vide ()\n",
    "    j = min(i,hauteur_pile(p))\n",
    "    for indice in range(j):\n",
    "        x = depiler(P)\n",
    "        if x > max_val:\n",
    "            max_val = x\n",
    "            max_indice = indice+1\n",
    "        empiler(Q,x)\n",
    "    for _ in range(j):\n",
    "        empiler(P,depiler(Q))\n",
    "    return max_indice\n",
    "\n",
    "afficher_pile (P)\n",
    "print('max_pile',max_pile(P,5))\n",
    "afficher_pile (P)\n",
    "        "
   ]
  },
  {
   "cell_type": "markdown",
   "id": "899316e0",
   "metadata": {},
   "source": [
    "### Q3 : Retourner"
   ]
  },
  {
   "cell_type": "code",
   "execution_count": 6,
   "id": "3e1e2b59",
   "metadata": {},
   "outputs": [
    {
     "name": "stdout",
     "output_type": "stream",
     "text": [
      "Pile vide\n",
      "4\n",
      "2\n",
      "5\n",
      "8\n",
      "\n",
      "5\n",
      "2\n",
      "4\n",
      "8\n",
      "\n"
     ]
    }
   ],
   "source": [
    "def retourner(P:list, j:int):\n",
    "    # print('Entering retourner indice',j)\n",
    "    Q = creer_pile_vide ()\n",
    "    R = creer_pile_vide ()\n",
    "    for _ in range(j):\n",
    "        empiler(Q,depiler(P))\n",
    "    for _ in range(j):\n",
    "        empiler(R,depiler(Q))\n",
    "    for _ in range(j):\n",
    "        empiler(P,depiler(R))\n",
    "        \n",
    "vider_pile(P)\n",
    "afficher_pile(P)\n",
    "\n",
    "empiler(P,8)\n",
    "empiler(P,5)\n",
    "empiler(P,2)\n",
    "empiler(P,4)\n",
    "   \n",
    "afficher_pile(P)\n",
    "retourner(P,3)\n",
    "afficher_pile(P)"
   ]
  },
  {
   "cell_type": "markdown",
   "id": "1ed5abff",
   "metadata": {},
   "source": [
    "### Q4 : Tri"
   ]
  },
  {
   "cell_type": "code",
   "execution_count": 7,
   "id": "45aeabc9",
   "metadata": {},
   "outputs": [
    {
     "name": "stdout",
     "output_type": "stream",
     "text": [
      "Pile vide\n",
      "9\n",
      "2\n",
      "6\n",
      "1\n",
      "3\n",
      "2\n",
      "5\n",
      "8\n",
      "\n",
      "1\n",
      "2\n",
      "2\n",
      "3\n",
      "5\n",
      "6\n",
      "8\n",
      "9\n",
      "\n"
     ]
    }
   ],
   "source": [
    "def tri_crepes(p:list):\n",
    "    for i in range(len(p),0,-1):\n",
    "        retourner(p,max_pile(p,i))\n",
    "        retourner(p,i)\n",
    "        \n",
    "vider_pile(P)\n",
    "afficher_pile(P)\n",
    "\n",
    "empiler(P,8)\n",
    "empiler(P,5)\n",
    "empiler(P,2)\n",
    "empiler(P,3)\n",
    "empiler(P,1)\n",
    "empiler(P,6)\n",
    "empiler(P,2)\n",
    "empiler(P,9)\n",
    "afficher_pile(P)\n",
    "tri_crepes(P)\n",
    "afficher_pile(P)"
   ]
  },
  {
   "cell_type": "markdown",
   "id": "e9771aff",
   "metadata": {},
   "source": [
    "### Files"
   ]
  },
  {
   "cell_type": "code",
   "execution_count": 8,
   "id": "fe721383",
   "metadata": {},
   "outputs": [],
   "source": [
    "def creer_file_vide():\n",
    "    return []\n",
    "\n",
    "\n",
    "def est_vide(f:list)->bool:\n",
    "    return len(f)==0\n",
    "\n",
    "\n",
    "def enfiler(f:list, e:int):\n",
    "    f.append(e)\n",
    "    \n",
    "    \n",
    "def defiler(f:list)->int:\n",
    "    return f.pop(0)\n",
    "\n",
    "\n",
    "def afficher(f:list):\n",
    "    if not est_vide(f):\n",
    "        for i in range(len(f)-1,-1,-1):\n",
    "            print(f[i],'',end='')\n",
    "        print('')\n",
    "    else:\n",
    "        print('File vide')\n",
    "        \n",
    "def vider(f:list):\n",
    "    l.clear()"
   ]
  },
  {
   "cell_type": "code",
   "execution_count": 9,
   "id": "0a95069b",
   "metadata": {},
   "outputs": [
    {
     "name": "stdout",
     "output_type": "stream",
     "text": [
      "5 4 3 2 1 \n"
     ]
    }
   ],
   "source": [
    "f = creer_file_vide()\n",
    "enfiler(f,1)\n",
    "enfiler(f,2)\n",
    "enfiler(f,3)\n",
    "enfiler(f,4)\n",
    "enfiler(f,5)\n",
    "afficher(f)\n"
   ]
  },
  {
   "cell_type": "code",
   "execution_count": null,
   "id": "8a7d9081",
   "metadata": {},
   "outputs": [],
   "source": []
  }
 ],
 "metadata": {
  "kernelspec": {
   "display_name": "Python 3 (ipykernel)",
   "language": "python",
   "name": "python3"
  },
  "language_info": {
   "codemirror_mode": {
    "name": "ipython",
    "version": 3
   },
   "file_extension": ".py",
   "mimetype": "text/x-python",
   "name": "python",
   "nbconvert_exporter": "python",
   "pygments_lexer": "ipython3",
   "version": "3.8.11"
  }
 },
 "nbformat": 4,
 "nbformat_minor": 5
}
