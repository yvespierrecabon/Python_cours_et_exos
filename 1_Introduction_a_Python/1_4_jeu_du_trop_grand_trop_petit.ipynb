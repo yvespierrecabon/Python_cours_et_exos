{
 "cells": [
  {
   "cell_type": "markdown",
   "id": "ac24f24f",
   "metadata": {},
   "source": [
    "### jeu du \"Trouve le bon nombre ! \""
   ]
  },
  {
   "cell_type": "code",
   "execution_count": null,
   "id": "0be7775c",
   "metadata": {},
   "outputs": [
    {
     "name": "stdout",
     "output_type": "stream",
     "text": [
      "Trouvez un nombre entre  0 et 1000 en moins de  13 essais\n"
     ]
    }
   ],
   "source": [
    "from random import randint\n",
    "import math\n",
    "# choix du nombre à trouver\n",
    "min = 0\n",
    "max = 1000\n",
    "secret_number = randint(min,max)\n",
    "\n",
    "win = False\n",
    "number_of_shots= 0\n",
    "max_number_of_shots = int(4*math.log10(max - min))\n",
    "print('Trouvez un nombre entre ',min,'et',max,'en moins de ',max_number_of_shots+1,'essais')\n",
    "while not win:\n",
    "    # choix du nombre par le joueur\n",
    "    selected_string_number = ''\n",
    "    while(not (selected_string_number.isnumeric() and min<=int(selected_string_number)<=max)):\n",
    "        selected_string_number = input('Entrez un nombre entre '+str(min)+' et '+str(max)+':')\n",
    "    selected_number = int(selected_string_number)\n",
    "    # print('chosen_number : ',selected_number)\n",
    "    number_of_shots +=1\n",
    "    if selected_number == secret_number:\n",
    "        print(secret_number,\"trouvé. C'est gagné en \",number_of_shots,\" coups !!!\")\n",
    "        win = True\n",
    "    else:\n",
    "        if number_of_shots == max_number_of_shots:\n",
    "            print(\"C'est perdu après\",max_number_of_shots,\"essais\")\n",
    "            print(\"Le nombre à trouver était\",secret_number)\n",
    "        else:\n",
    "            if selected_number < secret_number:\n",
    "                print(selected_number,'est trop petit ...')\n",
    "            else:\n",
    "                print(selected_number,'est trop grand ...')\n",
    "            print('Il reste',max_number_of_shots - number_of_shots,\"essais\")\n",
    "    "
   ]
  },
  {
   "cell_type": "code",
   "execution_count": null,
   "id": "aba9382a",
   "metadata": {},
   "outputs": [],
   "source": []
  },
  {
   "cell_type": "code",
   "execution_count": null,
   "id": "5ab6fd3b",
   "metadata": {},
   "outputs": [],
   "source": []
  }
 ],
 "metadata": {
  "kernelspec": {
   "display_name": "Python 3 (ipykernel)",
   "language": "python",
   "name": "python3"
  },
  "language_info": {
   "codemirror_mode": {
    "name": "ipython",
    "version": 3
   },
   "file_extension": ".py",
   "mimetype": "text/x-python",
   "name": "python",
   "nbconvert_exporter": "python",
   "pygments_lexer": "ipython3",
   "version": "3.12.2"
  }
 },
 "nbformat": 4,
 "nbformat_minor": 5
}
