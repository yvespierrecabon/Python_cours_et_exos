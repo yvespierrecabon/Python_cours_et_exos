{
 "cells": [
  {
   "cell_type": "markdown",
   "id": "85c4bbb6",
   "metadata": {},
   "source": [
    "## introduction aux concepts de base de la programmation avec Python"
   ]
  },
  {
   "cell_type": "markdown",
   "id": "6f39837b",
   "metadata": {},
   "source": [
    "### variables"
   ]
  },
  {
   "cell_type": "code",
   "execution_count": 7,
   "id": "f3aeb429",
   "metadata": {},
   "outputs": [
    {
     "name": "stdout",
     "output_type": "stream",
     "text": [
      "Bonjour gabriela !\n"
     ]
    }
   ],
   "source": [
    "print('Bonjour gabriela !')"
   ]
  },
  {
   "cell_type": "code",
   "execution_count": 8,
   "id": "95b1070a",
   "metadata": {},
   "outputs": [
    {
     "name": "stdout",
     "output_type": "stream",
     "text": [
      "Bonjour Gabriela\n"
     ]
    }
   ],
   "source": [
    "x = 'Gabriela'\n",
    "print('Bonjour', x)"
   ]
  },
  {
   "cell_type": "code",
   "execution_count": 9,
   "id": "f1c6261a",
   "metadata": {},
   "outputs": [
    {
     "name": "stdout",
     "output_type": "stream",
     "text": [
      "Bonjour Gabriela\n"
     ]
    }
   ],
   "source": [
    "prenom = 'Gabriela'\n",
    "print('Bonjour', prenom)"
   ]
  },
  {
   "cell_type": "code",
   "execution_count": 10,
   "id": "fec830b5",
   "metadata": {},
   "outputs": [
    {
     "name": "stdout",
     "output_type": "stream",
     "text": [
      "Bonjour Gabriela et Yves\n"
     ]
    }
   ],
   "source": [
    "prenom_1 = 'Gabriela'\n",
    "prenom_2 = 'Yves'\n",
    "print('Bonjour', prenom_1,\"et\",prenom_2)"
   ]
  },
  {
   "cell_type": "markdown",
   "id": "e6d49b0b",
   "metadata": {},
   "source": [
    "#### les variables peuvent changer de valeur"
   ]
  },
  {
   "cell_type": "code",
   "execution_count": 11,
   "id": "f6cc0070",
   "metadata": {},
   "outputs": [
    {
     "name": "stdout",
     "output_type": "stream",
     "text": [
      "Bonjour Gabriela et Jean\n"
     ]
    }
   ],
   "source": [
    "prenom_2 = 'Jean'\n",
    "print('Bonjour', prenom_1,\"et\",prenom_2)"
   ]
  },
  {
   "cell_type": "markdown",
   "id": "7e2d41b4",
   "metadata": {},
   "source": [
    "#### Types de variables"
   ]
  },
  {
   "cell_type": "code",
   "execution_count": 13,
   "id": "327e493c",
   "metadata": {},
   "outputs": [
    {
     "name": "stdout",
     "output_type": "stream",
     "text": [
      "3 ananas pèsent 4.56 kilos\n"
     ]
    }
   ],
   "source": [
    "x = 3  # entiers relatifs int\n",
    "y = 4.56 # nombre décimal float\n",
    "z = 'ananas' # chaine de caractères string\n",
    "print(x,z, 'pèsent',y,'kilos')"
   ]
  },
  {
   "cell_type": "markdown",
   "id": "aa1de748",
   "metadata": {},
   "source": [
    "##### type booléen"
   ]
  },
  {
   "cell_type": "code",
   "execution_count": 48,
   "id": "487200c3",
   "metadata": {},
   "outputs": [
    {
     "name": "stdout",
     "output_type": "stream",
     "text": [
      "True\n"
     ]
    }
   ],
   "source": [
    "valeur_1 = True\n",
    "valeur_2 = False\n",
    "print(valeur_1)"
   ]
  },
  {
   "cell_type": "markdown",
   "id": "7eb72bc5",
   "metadata": {},
   "source": [
    "### Opérateurs"
   ]
  },
  {
   "cell_type": "markdown",
   "id": "c45bd4c9",
   "metadata": {},
   "source": [
    "#### Opérateurs arithmétiques : + - * / // %"
   ]
  },
  {
   "cell_type": "code",
   "execution_count": 53,
   "id": "13a4e5ef",
   "metadata": {},
   "outputs": [
    {
     "name": "stdout",
     "output_type": "stream",
     "text": [
      "addition 57\n",
      "soustraction 47\n",
      "multiplication 260\n",
      "division 10.4\n",
      "division entiere 10\n",
      "modulo 2\n",
      "52 = ( 10 * 5 ) + 2\n"
     ]
    }
   ],
   "source": [
    "a = 52\n",
    "b=5\n",
    "print('addition', a+b)\n",
    "print('soustraction', a-b)\n",
    "print('multiplication', a*b)\n",
    "print('division', a/b)\n",
    "print('division entiere',a//b)\n",
    "print('modulo',a%b)\n",
    "print(a, '= (',a//b,'*',b,') +',a%b)"
   ]
  },
  {
   "cell_type": "code",
   "execution_count": 19,
   "id": "4eb9bc95",
   "metadata": {},
   "outputs": [
    {
     "name": "stdout",
     "output_type": "stream",
     "text": [
      "16\n"
     ]
    }
   ],
   "source": [
    "a =8\n",
    "print(5*a)"
   ]
  },
  {
   "cell_type": "code",
   "execution_count": 81,
   "id": "d9e19475",
   "metadata": {},
   "outputs": [
    {
     "name": "stdout",
     "output_type": "stream",
     "text": [
      "BonjourGabriela\n",
      "Bonjour Gabriela\n"
     ]
    }
   ],
   "source": [
    "a = 'Bonjour'\n",
    "b = 'Gabriela'\n",
    "print(a+b)\n",
    "print(a+' '+b)"
   ]
  },
  {
   "cell_type": "code",
   "execution_count": null,
   "id": "73265c5f",
   "metadata": {},
   "outputs": [],
   "source": [
    "a = 10\n",
    "b = 5\n",
    "c= '5'\n",
    "print(a + b)\n",
    "# print(a + c)\n",
    "print(str(a) + c)\n",
    "print(a + int(c))"
   ]
  },
  {
   "cell_type": "markdown",
   "id": "238951e3",
   "metadata": {},
   "source": [
    "##### Opérateurs de comparaison : == > < >= <="
   ]
  },
  {
   "cell_type": "code",
   "execution_count": 49,
   "id": "97957e65",
   "metadata": {},
   "outputs": [
    {
     "name": "stdout",
     "output_type": "stream",
     "text": [
      "True\n"
     ]
    }
   ],
   "source": [
    "# \n",
    "print(3 < 4)"
   ]
  },
  {
   "cell_type": "markdown",
   "id": "eb440f19",
   "metadata": {},
   "source": [
    "#### Opérateurs logiques : et ou non"
   ]
  },
  {
   "cell_type": "code",
   "execution_count": 58,
   "id": "4eaa6b88",
   "metadata": {},
   "outputs": [
    {
     "name": "stdout",
     "output_type": "stream",
     "text": [
      "3<4 and 5>2 :  True\n",
      "3<4 and 5<2 :  False\n",
      "3<4 or 5<2 :  True\n",
      "3<4 and not 5>2 :  False\n"
     ]
    }
   ],
   "source": [
    "print(\"3<4 and 5>2 : \",3<4 and 5>2)\n",
    "print(\"3<4 and 5<2 : \",3<4 and 5<2)\n",
    "print(\"3<4 or 5<2 : \",3<4 or 5>2)\n",
    "print(\"3<4 and not 5>2 : \",3<4 and not 5>2)"
   ]
  },
  {
   "cell_type": "markdown",
   "id": "35a9aec1",
   "metadata": {},
   "source": [
    "### (Instruction de )Tests"
   ]
  },
  {
   "cell_type": "markdown",
   "id": "aac58257",
   "metadata": {},
   "source": [
    "#### si ... alors ..."
   ]
  },
  {
   "cell_type": "code",
   "execution_count": 65,
   "id": "0d9d2c22",
   "metadata": {},
   "outputs": [
    {
     "name": "stdout",
     "output_type": "stream",
     "text": [
      "début du test\n",
      "fin du test\n"
     ]
    }
   ],
   "source": [
    "a = 2\n",
    "b = 3\n",
    "print('début du test')\n",
    "if a>b:\n",
    "    print(a,'est plus grand que',b)\n",
    "print('fin du test')"
   ]
  },
  {
   "cell_type": "markdown",
   "id": "ebf69b20",
   "metadata": {},
   "source": [
    "#### si ... alors ... sinon ..."
   ]
  },
  {
   "cell_type": "code",
   "execution_count": 71,
   "id": "7101008a",
   "metadata": {},
   "outputs": [
    {
     "name": "stdout",
     "output_type": "stream",
     "text": [
      "a : 3\n",
      "b : 5\n",
      "début du test\n",
      "3 est plus petit que 5\n",
      "fin du test\n"
     ]
    }
   ],
   "source": [
    "a = 2\n",
    "b = 3\n",
    "# a = int(input('Entrer a : '))\n",
    "# b = int(input('Entrer b : '))\n",
    "print('début du test')\n",
    "if a>b:\n",
    "    print(a,'est plus grand que',b)\n",
    "else:\n",
    "    print(a,'est plus petit que',b)\n",
    "print('fin du test')"
   ]
  },
  {
   "cell_type": "markdown",
   "id": "d3e0b129",
   "metadata": {},
   "source": [
    "### instruction de boucle"
   ]
  },
  {
   "cell_type": "markdown",
   "id": "342dd1e2",
   "metadata": {},
   "source": [
    "Boucle \"pour\" -> \"for\"\n",
    "on sait combien de fois on veut boucler"
   ]
  },
  {
   "cell_type": "code",
   "execution_count": 67,
   "id": "886fdb69",
   "metadata": {},
   "outputs": [
    {
     "name": "stdout",
     "output_type": "stream",
     "text": [
      "0\n",
      "1\n",
      "2\n",
      "3\n",
      "4\n",
      "5\n",
      "6\n",
      "7\n",
      "8\n",
      "9\n"
     ]
    }
   ],
   "source": [
    "for i in range(10):\n",
    "    print(i)"
   ]
  },
  {
   "cell_type": "code",
   "execution_count": 78,
   "id": "214cf454",
   "metadata": {},
   "outputs": [
    {
     "name": "stdout",
     "output_type": "stream",
     "text": [
      "0 * 5 = 0\n",
      "1 * 5 = 5\n",
      "2 * 5 = 10\n",
      "3 * 5 = 15\n",
      "4 * 5 = 20\n",
      "5 * 5 = 25\n",
      "6 * 5 = 30\n",
      "7 * 5 = 35\n",
      "8 * 5 = 40\n",
      "9 * 5 = 45\n",
      "10 * 5 = 50\n"
     ]
    }
   ],
   "source": [
    "for a in range(11):\n",
    "    print(a ,'* 5 =',5*a)"
   ]
  },
  {
   "cell_type": "code",
   "execution_count": 80,
   "id": "4b2893b8",
   "metadata": {},
   "outputs": [
    {
     "name": "stdout",
     "output_type": "stream",
     "text": [
      "0 * 4  = 0\n",
      "1 * 4  = 4\n",
      "2 * 4  = 8\n",
      "3 * 4  = 12\n",
      "4 * 4  = 16\n",
      "5 * 4  = 20\n",
      "6 * 4  = 24\n",
      "7 * 4  = 28\n",
      "8 * 4  = 32\n",
      "9 * 4  = 36\n",
      "10 * 4  = 40\n",
      "11 * 4  = 44\n",
      "12 * 4  = 48\n",
      "13 * 4  = 52\n",
      "14 * 4  = 56\n",
      "15 * 4  = 60\n",
      "16 * 4  = 64\n",
      "17 * 4  = 68\n",
      "18 * 4  = 72\n",
      "19 * 4  = 76\n",
      "20 * 4  = 80\n"
     ]
    }
   ],
   "source": [
    "# ajouter la variable n\n",
    "# ajouter la variable max\n",
    "n = 4\n",
    "max = 21\n",
    "for a in range(max):\n",
    "    print(a ,'*',n,' =',n*a)"
   ]
  },
  {
   "cell_type": "markdown",
   "id": "fe839a99",
   "metadata": {},
   "source": [
    "Boucle \"tant que\" -> \"DOXxx avec xx in(EQ, NE, GT, GE, LT, LE)"
   ]
  },
  {
   "cell_type": "code",
   "execution_count": 69,
   "id": "3b3efc35",
   "metadata": {},
   "outputs": [
    {
     "name": "stdout",
     "output_type": "stream",
     "text": [
      "0\n",
      "2\n",
      "4\n",
      "6\n",
      "8\n"
     ]
    }
   ],
   "source": [
    "i = 0\n",
    "while i < 10:\n",
    "    print(i)\n",
    "    i = i+2\n",
    "    # i+=2 => "
   ]
  },
  {
   "cell_type": "markdown",
   "id": "8e2fcae0",
   "metadata": {},
   "source": [
    "### Tableaux, liste"
   ]
  },
  {
   "cell_type": "code",
   "execution_count": 11,
   "id": "0e50974c",
   "metadata": {},
   "outputs": [
    {
     "name": "stdout",
     "output_type": "stream",
     "text": [
      "Jean\n",
      "---\n",
      "Bonjour Gabriella\n",
      "Bonjour Yves\n",
      "Bonjour Jean\n",
      "---\n",
      "Bonjour Gabriella\n",
      "Bonjour Yves\n",
      "Bonjour Jean\n",
      "Bonjour Lucie\n",
      "---\n",
      "Bonjour Gabriella\n",
      "Bonjour Jean\n",
      "Bonjour Lucie\n",
      "[0, 0, 0, 0, 0, 1, 1, 1, 1, 1, 1, 1, 1, 1, 1, 1, 1, 2, 2, 2, 2, 2, 2, 2, 2, 2, 2, 2, 2, 2, 3, 3, 3, 3, 3, 3, 4, 4, 4, 4, 4, 4, 4, 4, 4, 4, 5, 5, 5, 5, 5, 5, 5, 5, 6, 6, 6, 6, 6, 6, 6, 6, 7, 7, 7, 7, 7, 7, 8, 8, 8, 8, 8, 8, 8, 8, 9, 9, 9, 9, 9, 9, 9, 9, 9, 9, 9, 9, 9, 9, 10, 10, 10, 10, 10, 10, 10, 10, 10, 10, 10, 10, 10, 11, 11, 11, 11, 11, 11, 11, 11, 11, 11, 11, 12, 12, 12, 12, 12, 12, 12, 12, 12, 12, 13, 13, 13, 13, 13, 13, 13, 13, 13, 14, 14, 14, 14, 14, 14, 15, 15, 15, 15, 15, 15, 15, 15, 15, 15, 15, 16, 16, 16, 16, 16, 16, 16, 16, 16, 17, 17, 17, 17, 17, 17, 17, 17, 17, 17, 17, 17, 18, 18, 18, 18, 18, 18, 19, 19, 19, 19, 19, 19, 19, 19, 19, 20, 20, 20, 20, 20, 20, 20, 20, 20, 20, 21, 21, 21, 21, 21, 21, 21, 21, 21, 21, 21, 21, 22, 22, 22, 22, 22, 22, 22, 22, 22, 22, 22, 22, 22, 23, 23, 23, 23, 23, 23, 23, 23, 23, 24, 24, 24, 24, 24, 24, 24, 24, 24, 24, 24, 24, 25, 25, 25, 25, 25, 25, 25, 25, 25, 25, 25, 25, 25, 26, 26, 26, 26, 26, 26, 26, 27, 27, 27, 27, 27, 27, 28, 28, 28, 28, 28, 28, 28, 28, 29, 29, 29, 29, 29, 29, 29, 29, 29, 29, 29, 29, 30, 30, 30, 30, 30, 30, 30, 30, 30, 30, 30, 30, 31, 31, 31, 32, 32, 32, 32, 32, 33, 33, 33, 33, 33, 33, 33, 33, 33, 33, 33, 33, 33, 33, 33, 34, 34, 34, 34, 34, 34, 34, 34, 34, 34, 34, 34, 34, 35, 35, 35, 35, 35, 35, 35, 35, 35, 36, 36, 36, 36, 37, 37, 37, 37, 37, 37, 38, 38, 38, 38, 38, 38, 38, 38, 38, 38, 38, 38, 39, 39, 39, 39, 39, 39, 39, 39, 39, 39, 39, 39, 39, 39, 39, 39, 39, 40, 40, 40, 40, 40, 40, 40, 40, 41, 41, 41, 41, 41, 41, 41, 41, 41, 41, 41, 42, 42, 42, 42, 42, 42, 42, 42, 42, 42, 42, 43, 43, 43, 43, 43, 43, 43, 43, 43, 43, 43, 43, 43, 43, 43, 43, 43, 44, 44, 44, 44, 44, 44, 44, 44, 44, 44, 45, 45, 45, 45, 45, 45, 45, 45, 45, 45, 45, 45, 46, 46, 46, 46, 46, 46, 46, 46, 46, 47, 47, 47, 47, 47, 47, 47, 47, 48, 48, 48, 48, 48, 48, 48, 48, 48, 48, 48, 48, 49, 49, 49, 49, 49, 49, 50, 50, 50, 50, 50, 50, 50, 50, 50, 50, 51, 51, 51, 51, 52, 52, 52, 52, 52, 52, 52, 52, 52, 53, 53, 53, 53, 53, 53, 53, 53, 53, 53, 53, 53, 53, 53, 54, 54, 54, 54, 54, 54, 54, 55, 55, 55, 55, 55, 55, 55, 55, 55, 55, 55, 55, 56, 56, 56, 56, 56, 57, 57, 57, 57, 57, 57, 57, 57, 58, 58, 58, 58, 58, 58, 59, 59, 59, 59, 59, 59, 59, 59, 59, 59, 60, 60, 60, 60, 60, 60, 60, 60, 60, 60, 61, 61, 61, 61, 61, 61, 62, 62, 62, 62, 62, 62, 62, 62, 62, 62, 62, 62, 63, 63, 63, 63, 63, 63, 63, 63, 63, 64, 64, 64, 64, 64, 64, 64, 65, 65, 65, 65, 65, 65, 65, 65, 65, 65, 66, 66, 66, 66, 66, 66, 66, 66, 66, 66, 66, 66, 66, 66, 66, 66, 67, 67, 67, 67, 67, 67, 67, 67, 67, 68, 68, 68, 68, 68, 68, 69, 69, 69, 69, 69, 69, 69, 69, 69, 69, 69, 70, 70, 70, 70, 70, 70, 70, 70, 70, 70, 70, 70, 70, 70, 70, 71, 71, 71, 71, 71, 71, 71, 71, 71, 72, 72, 72, 72, 72, 72, 73, 73, 73, 73, 73, 73, 73, 73, 73, 73, 73, 73, 73, 73, 73, 73, 74, 74, 74, 74, 74, 74, 74, 74, 74, 74, 75, 75, 75, 75, 75, 75, 75, 75, 75, 75, 75, 76, 76, 76, 76, 76, 76, 77, 77, 77, 77, 77, 77, 77, 77, 77, 77, 77, 78, 78, 78, 78, 78, 78, 78, 78, 78, 78, 78, 78, 78, 78, 79, 79, 79, 79, 79, 79, 79, 79, 79, 80, 80, 80, 80, 80, 80, 80, 80, 80, 81, 81, 81, 81, 81, 81, 81, 81, 81, 81, 81, 81, 81, 82, 82, 82, 82, 82, 82, 83, 83, 83, 83, 83, 83, 83, 83, 83, 83, 83, 83, 84, 84, 84, 84, 84, 84, 84, 84, 84, 84, 85, 85, 85, 85, 85, 85, 85, 85, 85, 85, 85, 86, 86, 86, 86, 86, 86, 86, 86, 86, 86, 86, 87, 87, 87, 87, 87, 87, 87, 87, 87, 87, 88, 88, 88, 88, 88, 88, 88, 88, 88, 88, 88, 89, 89, 89, 89, 89, 89, 90, 90, 90, 90, 90, 90, 90, 90, 90, 90, 90, 91, 91, 91, 91, 91, 91, 91, 92, 92, 92, 92, 92, 92, 92, 92, 92, 92, 93, 93, 93, 93, 93, 93, 93, 93, 93, 93, 93, 93, 94, 94, 94, 94, 94, 94, 94, 94, 94, 94, 94, 95, 95, 95, 95, 95, 95, 95, 95, 95, 95, 95, 95, 95, 95, 95, 96, 96, 96, 96, 96, 96, 96, 96, 96, 96, 96, 97, 97, 97, 97, 97, 97, 97, 97, 97, 97, 97, 97, 97, 97, 98, 98, 98, 98, 98, 98, 98, 98, 99, 99, 99, 99, 99, 99, 99, 99, 99, 99, 99, 99, 99, 99, 99, 100, 100, 100, 100, 100, 100, 100, 100, 100, 100, 100]\n"
     ]
    }
   ],
   "source": [
    "liste_prenoms = ['Gabriella', 'Yves', 'Jean']\n",
    "print(liste_prenoms[2])\n",
    "print('---')\n",
    "for prenom in liste_prenoms:\n",
    "    print(\"Bonjour\",prenom)\n",
    "liste_prenoms.append('Lucie')\n",
    "print('---')\n",
    "\n",
    "for i in range(len(liste_prenoms)):\n",
    "    print(\"Bonjour\" ,liste_prenoms[i])\n",
    "liste_prenoms.pop(1)\n",
    "print('---')\n",
    "\n",
    "for prenom in liste_prenoms:\n",
    "    print(\"Bonjour\",prenom)\n",
    "    \n",
    "    \n",
    "\"\"\"savoir si une valeur est dans un tableau\n",
    "1 : tester toutes les valeurs\n",
    "tester chaque valeur du tableau tant qu'elle n'est pas égale ou qu'on arrive pas au bout \n",
    "ou employer in ...\n",
    "\"\"\"\n",
    "\n",
    "from random import randint\n",
    "tab = []\n",
    "for _ in range(1000):\n",
    "    tab.append(randint(0, 100))\n",
    "tab.sort()\n",
    "print(tab)"
   ]
  },
  {
   "cell_type": "code",
   "execution_count": 11,
   "id": "5fdc1819",
   "metadata": {},
   "outputs": [
    {
     "name": "stdout",
     "output_type": "stream",
     "text": [
      "Bonjour Gabriella\n",
      "Bonjour Jules\n",
      "Bonjour Lucie\n"
     ]
    }
   ],
   "source": [
    "liste_prenoms[1] = 'Jules'\n",
    "for prenom in liste_prenoms:\n",
    "    print(\"Bonjour\",prenom)"
   ]
  },
  {
   "cell_type": "code",
   "execution_count": null,
   "id": "4820f8d6",
   "metadata": {},
   "outputs": [],
   "source": []
  }
 ],
 "metadata": {
  "kernelspec": {
   "display_name": "Python 3 (ipykernel)",
   "language": "python",
   "name": "python3"
  },
  "language_info": {
   "codemirror_mode": {
    "name": "ipython",
    "version": 3
   },
   "file_extension": ".py",
   "mimetype": "text/x-python",
   "name": "python",
   "nbconvert_exporter": "python",
   "pygments_lexer": "ipython3",
   "version": "3.12.2"
  }
 },
 "nbformat": 4,
 "nbformat_minor": 5
}
