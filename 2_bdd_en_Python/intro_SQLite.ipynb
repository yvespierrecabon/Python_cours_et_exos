{
 "cells": [
  {
   "cell_type": "code",
   "execution_count": 4,
   "id": "df348dcc",
   "metadata": {},
   "outputs": [
    {
     "name": "stdout",
     "output_type": "stream",
     "text": [
      "(1, '1984', 1, 1949)\n",
      "(2, 'Dune', 2, 1965)\n",
      "(3, 'Fondation', 3, 1951)\n",
      "(4, 'Le meilleur des mondes', 4, 1931)\n",
      "(5, 'Fahrenheit 451', 5, 1953)\n",
      "(6, 'Ubik', 6, 1969)\n",
      "(7, 'Chroniques martiennes', 5, 1950)\n",
      "(8, 'La nuit des temps', 7, 1968)\n",
      "(9, 'Blade Runner', 6, 1968)\n",
      "(10, 'Les Robots', 3, 1950)\n",
      "(11, 'La Planète des singes', 8, 1963)\n",
      "(12, 'Ravage', 7, 1943)\n",
      "(13, 'Le Maître du Haut Château', 6, 1962)\n",
      "(14, 'Le monde des A', 9, 1945)\n",
      "(15, 'La Fin de l’éternité', 3, 1955)\n",
      "(16, 'De la Terre à la Lune', 10, 1865)\n"
     ]
    }
   ],
   "source": [
    "import sqlite3\n",
    "\n",
    "bdd = sqlite3.connect(\"livres_db\")\n",
    "curseur = bdd.cursor()\n",
    "\n",
    "requete = \"SELECT * FROM Livres;\"\n",
    "curseur.execute(requete)\n",
    "resultat = curseur.fetchall()\n",
    "[d[0] for d in curseur.description]\n",
    "for l in resultat:\n",
    "    print(l)\n"
   ]
  },
  {
   "cell_type": "code",
   "execution_count": 15,
   "id": "ae93c928",
   "metadata": {},
   "outputs": [
    {
     "name": "stdout",
     "output_type": "stream",
     "text": [
      "('George',)\n",
      "[(1903, 'George', 'Orwell'), (1911, 'René', 'Barjavel'), (1912, 'Pierre', 'Boulle'), (1912, 'Alfred Elton', 'Van Vogt'), (1920, 'Frank', 'Herbert'), (1920, 'Isaac', 'Asimov'), (1920, 'Ray', 'Bradbury'), (1928, 'Philip', 'K. Dick')]\n",
      "Auteurs\n",
      "Langues\n",
      "Livres\n",
      "RelationsLivreTheme\n",
      "Themes\n"
     ]
    }
   ],
   "source": [
    "def prenom(c, nom):\n",
    "    requete = \"SELECT PrenomAuteur FROM Auteurs WHERE NomAuteur = ?\"\n",
    "    c.execute(requete, [nom])\n",
    "    r = c.fetchall()\n",
    "    if len(r) == 0:\n",
    "        return None\n",
    "    elif len(r) == 1:\n",
    "        return r[0]\n",
    "    \n",
    "print(prenom(curseur, 'Orwell'))\n",
    "\n",
    "def naissance_apres(c,annee):\n",
    "    requete = \"SELECT AnneeNaissance, PrenomAuteur,NomAuteur FROM Auteurs WHERE AnneeNaissance > ? ORDER BY AnneeNaissance;\"\n",
    "    c.execute(requete, [annee])\n",
    "    r = c.fetchall()\n",
    "    if len(r) == 0:\n",
    "        return None\n",
    "    else:\n",
    "        return r\n",
    "    \n",
    "    \n",
    "print(naissance_apres(curseur, 1900))    \n",
    "    \n",
    "requete = \"SELECT name FROM sqlite_schema WHERE type='table' ORDER BY name;\"\n",
    "curseur.execute(requete)\n",
    "resultat = curseur.fetchall()\n",
    "# print(resultat)\n",
    "liste_table = [d[0] for d in resultat]\n",
    "for t in liste_table:\n",
    "    print(t)\n"
   ]
  },
  {
   "cell_type": "code",
   "execution_count": 4,
   "id": "d5d57ead",
   "metadata": {},
   "outputs": [
    {
     "name": "stdout",
     "output_type": "stream",
     "text": [
      "(0, 'IdAuteur', 'INTEGER', 0, None, 1)\n",
      "(1, 'NomAuteur', 'TEXT', 0, None, 0)\n",
      "(2, 'PrenomAuteur', 'TEXT', 0, None, 0)\n",
      "(3, 'IdLangue', 'INTEGER', 0, None, 0)\n",
      "(4, 'AnneeNaissance', 'INTEGER', 0, None, 0)\n"
     ]
    }
   ],
   "source": [
    "requete = \"PRAGMA table_info(Auteurs);\"\n",
    "curseur.execute(requete)\n",
    "resultat = curseur.fetchall()\n",
    "for c in resultat:\n",
    "    print(c)"
   ]
  },
  {
   "cell_type": "code",
   "execution_count": 16,
   "id": "e1eb5c80",
   "metadata": {},
   "outputs": [
    {
     "name": "stdout",
     "output_type": "stream",
     "text": [
      "\n",
      "Table Auteurs\n",
      "(0, 'IdAuteur', 'INTEGER', 0, None, 1)\n",
      "(1, 'NomAuteur', 'TEXT', 0, None, 0)\n",
      "(2, 'PrenomAuteur', 'TEXT', 0, None, 0)\n",
      "(3, 'IdLangue', 'INTEGER', 0, None, 0)\n",
      "(4, 'AnneeNaissance', 'INTEGER', 0, None, 0)\n",
      "\n",
      "Enregistrements Auteurs\n",
      "(0, 'Lecluse', 'Olivier', 2, 1870)\n",
      "(1, 'Orwell', 'George', 1, 1903)\n",
      "(2, 'Herbert', 'Frank', 1, 1920)\n",
      "(3, 'Asimov', 'Isaac', 1, 1920)\n",
      "(4, 'Huxley', 'Aldous', 1, 1894)\n",
      "(5, 'Bradbury', 'Ray', 1, 1920)\n",
      "(6, 'K. Dick', 'Philip', 1, 1928)\n",
      "(7, 'Barjavel', 'René', 2, 1911)\n",
      "(8, 'Boulle', 'Pierre', 2, 1912)\n",
      "(9, 'Van Vogt', 'Alfred Elton', 1, 1912)\n",
      "(10, 'Verne', 'Jules', 2, 1828)\n",
      "\n",
      "Table Langues\n",
      "(0, 'IdLangue', 'INTEGER', 0, None, 1)\n",
      "(1, 'Langue', 'TEXT', 0, None, 0)\n",
      "\n",
      "Enregistrements Langues\n",
      "(1, 'Anglais')\n",
      "(2, 'Français')\n",
      "\n",
      "Table Livres\n",
      "(0, 'IdLivre', 'INTEGER', 0, None, 1)\n",
      "(1, 'Titre', 'TEXT', 0, None, 0)\n",
      "(2, 'IdAuteur', 'INTEGER', 0, None, 0)\n",
      "(3, 'AnneePubli', 'INTEGER', 0, None, 0)\n",
      "\n",
      "Enregistrements Livres\n",
      "(1, '1984', 1, 1949)\n",
      "(2, 'Dune', 2, 1965)\n",
      "(3, 'Fondation', 3, 1951)\n",
      "(4, 'Le meilleur des mondes', 4, 1931)\n",
      "(5, 'Fahrenheit 451', 5, 1953)\n",
      "(6, 'Ubik', 6, 1969)\n",
      "(7, 'Chroniques martiennes', 5, 1950)\n",
      "(8, 'La nuit des temps', 7, 1968)\n",
      "(9, 'Blade Runner', 6, 1968)\n",
      "(10, 'Les Robots', 3, 1950)\n",
      "(11, 'La Planète des singes', 8, 1963)\n",
      "(12, 'Ravage', 7, 1943)\n",
      "(13, 'Le Maître du Haut Château', 6, 1962)\n",
      "(14, 'Le monde des A', 9, 1945)\n",
      "(15, 'La Fin de l’éternité', 3, 1955)\n",
      "(16, 'De la Terre à la Lune', 10, 1865)\n",
      "\n",
      "Table RelationsLivreTheme\n",
      "(0, 'IdRelation', 'INTEGER', 0, None, 1)\n",
      "(1, 'IdLivre', 'INTEGER', 0, None, 0)\n",
      "(2, 'IdTheme', 'INTEGER', 0, None, 0)\n",
      "\n",
      "Enregistrements RelationsLivreTheme\n",
      "(1, 1, 1)\n",
      "(2, 1, 2)\n",
      "(3, 1, 3)\n",
      "(4, 1, 4)\n",
      "(5, 2, 1)\n",
      "(6, 2, 3)\n",
      "(7, 3, 1)\n",
      "(8, 3, 5)\n",
      "(9, 4, 1)\n",
      "(10, 4, 2)\n",
      "(11, 4, 4)\n",
      "(12, 5, 1)\n",
      "(13, 5, 4)\n",
      "(14, 6, 1)\n",
      "(15, 6, 3)\n",
      "(16, 7, 1)\n",
      "(17, 7, 3)\n",
      "(18, 8, 1)\n",
      "(19, 8, 6)\n",
      "(20, 9, 1)\n",
      "(21, 9, 7)\n",
      "(22, 10, 1)\n",
      "(23, 10, 7)\n",
      "(24, 11, 1)\n",
      "(25, 11, 4)\n",
      "(26, 12, 1)\n",
      "(27, 12, 3)\n",
      "(28, 13, 4)\n",
      "(29, 13, 8)\n",
      "(30, 14, 1)\n",
      "(31, 14, 7)\n",
      "(32, 15, 1)\n",
      "(33, 15, 9)\n",
      "(34, 16, 1)\n",
      "(35, 16, 10)\n",
      "\n",
      "Table Themes\n",
      "(0, 'IdTheme', 'INTEGER', 0, None, 1)\n",
      "(1, 'Intitule', 'INTEGER', 0, None, 0)\n",
      "\n",
      "Enregistrements Themes\n",
      "(1, 'Science-fiction')\n",
      "(2, 'Totalitarisme')\n",
      "(3, 'Anticipation')\n",
      "(4, 'Dystopie')\n",
      "(5, 'Economie')\n",
      "(6, 'Tragédie')\n",
      "(7, 'Intelligence artificielle')\n",
      "(8, 'Uchronie')\n",
      "(9, 'Voyage dans le temps')\n",
      "(10, 'Aventure')\n"
     ]
    }
   ],
   "source": [
    "for table in liste_table:\n",
    "    requete = \"PRAGMA table_info(\"+table+\");\"\n",
    "    curseur.execute(requete)\n",
    "    resultat = curseur.fetchall()\n",
    "    print(\"\\nTable\",table)\n",
    "    for c in resultat:\n",
    "        print(c)\n",
    "        \n",
    "    requete = \"SELECT * FROM \"+table+\";\"\n",
    "    curseur.execute(requete)\n",
    "    resultat = curseur.fetchall()\n",
    "    print(\"\\nEnregistrements\",table)\n",
    "    for c in resultat:\n",
    "        print(c)"
   ]
  },
  {
   "cell_type": "code",
   "execution_count": 6,
   "id": "fc0ab483",
   "metadata": {},
   "outputs": [
    {
     "name": "stdout",
     "output_type": "stream",
     "text": [
      "('table', 'Langues', 'Langues', 2, 'CREATE TABLE \"Langues\" \\n(\\n\"IdLangue\" INTEGER  PRIMARY KEY,\\n\"Langue\"   TEXT\\n)')\n",
      "('table', 'Auteurs', 'Auteurs', 3, 'CREATE TABLE \"Auteurs\" (\\n    \"IdAuteur\"       INTEGER  PRIMARY KEY,\\n    \"NomAuteur\"      TEXT,\\n    \"PrenomAuteur\"   TEXT,\\n    \"IdLangue\"         INTEGER,\\n    \"AnneeNaissance\" INTEGER\\n)')\n",
      "('table', 'Livres', 'Livres', 4, 'CREATE TABLE Livres(\\n    \"IdLivre\" INTEGER  PRIMARY KEY,\\n\\t\"Titre\" TEXT,\\n\\t\"IdAuteur\" INTEGER,\\n\\t\"AnneePubli\" INTEGER\\n)')\n",
      "('table', 'Themes', 'Themes', 5, 'CREATE TABLE Themes (\\n    \"IdTheme\"        INTEGER PRIMARY KEY,\\n    \"Intitule\"  INTEGER\\n)')\n",
      "('table', 'RelationsLivreTheme', 'RelationsLivreTheme', 6, 'CREATE TABLE RelationsLivreTheme (\\n    \"IdRelation\"        INTEGER PRIMARY KEY,\\n    \"IdLivre\"  INTEGER,\\n    \"IdTheme\"  INTEGER\\n)')\n"
     ]
    }
   ],
   "source": [
    "requete = \"SELECT * FROM sqlite_master\"\n",
    "curseur.execute(requete)\n",
    "resultat = curseur.fetchall()\n",
    "for c in resultat:\n",
    "    print(c)"
   ]
  },
  {
   "cell_type": "code",
   "execution_count": 13,
   "id": "c34a3e67",
   "metadata": {},
   "outputs": [
    {
     "data": {
      "text/plain": [
       "[(3, 'Fondation', 3, 1951, 3, 'Asimov', 'Isaac', 1, 1920),\n",
       " (10, 'Les Robots', 3, 1950, 3, 'Asimov', 'Isaac', 1, 1920),\n",
       " (15, 'La Fin de l’éternité', 3, 1955, 3, 'Asimov', 'Isaac', 1, 1920)]"
      ]
     },
     "execution_count": 13,
     "metadata": {},
     "output_type": "execute_result"
    }
   ],
   "source": [
    "requete = \"SELECT * FROM Livres LEFT join Auteurs ON Livres.IdAuteur=Auteurs.IdAuteur WHERE NomAuteur='Asimov';\"\n",
    "curseur.execute(requete)\n",
    "resultat = curseur.fetchall()\n",
    "[d[0] for d in curseur.description]\n",
    "resultat\n"
   ]
  },
  {
   "cell_type": "code",
   "execution_count": 7,
   "id": "aff4531f",
   "metadata": {},
   "outputs": [],
   "source": [
    "\n",
    "bdd.close()"
   ]
  }
 ],
 "metadata": {
  "kernelspec": {
   "display_name": "Python 3 (ipykernel)",
   "language": "python",
   "name": "python3"
  },
  "language_info": {
   "codemirror_mode": {
    "name": "ipython",
    "version": 3
   },
   "file_extension": ".py",
   "mimetype": "text/x-python",
   "name": "python",
   "nbconvert_exporter": "python",
   "pygments_lexer": "ipython3",
   "version": "3.8.11"
  }
 },
 "nbformat": 4,
 "nbformat_minor": 5
}
