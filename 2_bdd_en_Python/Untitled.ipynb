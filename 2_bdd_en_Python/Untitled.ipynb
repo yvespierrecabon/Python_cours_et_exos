{
 "cells": [
  {
   "cell_type": "code",
   "execution_count": 5,
   "id": "1c9be7c1",
   "metadata": {},
   "outputs": [
    {
     "name": "stdout",
     "output_type": "stream",
     "text": [
      "The sql extension is already loaded. To reload it, use:\n",
      "  %reload_ext sql\n"
     ]
    }
   ],
   "source": [
    "%load_ext sql"
   ]
  },
  {
   "cell_type": "code",
   "execution_count": 6,
   "id": "799c617c",
   "metadata": {},
   "outputs": [],
   "source": [
    "%sql sqlite:///livres_db"
   ]
  },
  {
   "cell_type": "code",
   "execution_count": 7,
   "id": "997817d0",
   "metadata": {},
   "outputs": [
    {
     "name": "stdout",
     "output_type": "stream",
     "text": [
      " * sqlite:///livres_db\n",
      "Done.\n"
     ]
    },
    {
     "data": {
      "text/html": [
       "<table>\n",
       "    <tr>\n",
       "        <th>IdAuteur</th>\n",
       "        <th>NomAuteur</th>\n",
       "        <th>PrenomAuteur</th>\n",
       "        <th>IdLangue</th>\n",
       "        <th>AnneeNaissance</th>\n",
       "    </tr>\n",
       "    <tr>\n",
       "        <td>0</td>\n",
       "        <td>Lecluse</td>\n",
       "        <td>Olivier</td>\n",
       "        <td>2</td>\n",
       "        <td>1870</td>\n",
       "    </tr>\n",
       "    <tr>\n",
       "        <td>1</td>\n",
       "        <td>Orwell</td>\n",
       "        <td>George</td>\n",
       "        <td>1</td>\n",
       "        <td>1903</td>\n",
       "    </tr>\n",
       "    <tr>\n",
       "        <td>2</td>\n",
       "        <td>Herbert</td>\n",
       "        <td>Frank</td>\n",
       "        <td>1</td>\n",
       "        <td>1920</td>\n",
       "    </tr>\n",
       "    <tr>\n",
       "        <td>3</td>\n",
       "        <td>Asimov</td>\n",
       "        <td>Isaac</td>\n",
       "        <td>1</td>\n",
       "        <td>1920</td>\n",
       "    </tr>\n",
       "    <tr>\n",
       "        <td>4</td>\n",
       "        <td>Huxley</td>\n",
       "        <td>Aldous</td>\n",
       "        <td>1</td>\n",
       "        <td>1894</td>\n",
       "    </tr>\n",
       "    <tr>\n",
       "        <td>5</td>\n",
       "        <td>Bradbury</td>\n",
       "        <td>Ray</td>\n",
       "        <td>1</td>\n",
       "        <td>1920</td>\n",
       "    </tr>\n",
       "    <tr>\n",
       "        <td>6</td>\n",
       "        <td>K. Dick</td>\n",
       "        <td>Philip</td>\n",
       "        <td>1</td>\n",
       "        <td>1928</td>\n",
       "    </tr>\n",
       "    <tr>\n",
       "        <td>7</td>\n",
       "        <td>Barjavel</td>\n",
       "        <td>René</td>\n",
       "        <td>2</td>\n",
       "        <td>1911</td>\n",
       "    </tr>\n",
       "    <tr>\n",
       "        <td>8</td>\n",
       "        <td>Boulle</td>\n",
       "        <td>Pierre</td>\n",
       "        <td>2</td>\n",
       "        <td>1912</td>\n",
       "    </tr>\n",
       "    <tr>\n",
       "        <td>9</td>\n",
       "        <td>Van Vogt</td>\n",
       "        <td>Alfred Elton</td>\n",
       "        <td>1</td>\n",
       "        <td>1912</td>\n",
       "    </tr>\n",
       "    <tr>\n",
       "        <td>10</td>\n",
       "        <td>Verne</td>\n",
       "        <td>Jules</td>\n",
       "        <td>2</td>\n",
       "        <td>1828</td>\n",
       "    </tr>\n",
       "</table>"
      ],
      "text/plain": [
       "[(0, 'Lecluse', 'Olivier', 2, 1870),\n",
       " (1, 'Orwell', 'George', 1, 1903),\n",
       " (2, 'Herbert', 'Frank', 1, 1920),\n",
       " (3, 'Asimov', 'Isaac', 1, 1920),\n",
       " (4, 'Huxley', 'Aldous', 1, 1894),\n",
       " (5, 'Bradbury', 'Ray', 1, 1920),\n",
       " (6, 'K. Dick', 'Philip', 1, 1928),\n",
       " (7, 'Barjavel', 'René', 2, 1911),\n",
       " (8, 'Boulle', 'Pierre', 2, 1912),\n",
       " (9, 'Van Vogt', 'Alfred Elton', 1, 1912),\n",
       " (10, 'Verne', 'Jules', 2, 1828)]"
      ]
     },
     "execution_count": 7,
     "metadata": {},
     "output_type": "execute_result"
    }
   ],
   "source": [
    "%sql SELECT * FROM Auteurs WHERE 1;"
   ]
  },
  {
   "cell_type": "code",
   "execution_count": null,
   "id": "c58d9135",
   "metadata": {},
   "outputs": [],
   "source": []
  },
  {
   "cell_type": "code",
   "execution_count": 13,
   "id": "d00c67bd",
   "metadata": {},
   "outputs": [
    {
     "name": "stdout",
     "output_type": "stream",
     "text": [
      " * sqlite:///livres_db\n",
      "Done.\n"
     ]
    },
    {
     "data": {
      "text/html": [
       "<table>\n",
       "    <tr>\n",
       "        <th>name</th>\n",
       "    </tr>\n",
       "    <tr>\n",
       "        <td>Langues</td>\n",
       "    </tr>\n",
       "    <tr>\n",
       "        <td>Auteurs</td>\n",
       "    </tr>\n",
       "    <tr>\n",
       "        <td>Livres</td>\n",
       "    </tr>\n",
       "    <tr>\n",
       "        <td>Themes</td>\n",
       "    </tr>\n",
       "    <tr>\n",
       "        <td>RelationsLivreTheme</td>\n",
       "    </tr>\n",
       "</table>"
      ],
      "text/plain": [
       "[('Langues',),\n",
       " ('Auteurs',),\n",
       " ('Livres',),\n",
       " ('Themes',),\n",
       " ('RelationsLivreTheme',)]"
      ]
     },
     "execution_count": 13,
     "metadata": {},
     "output_type": "execute_result"
    }
   ],
   "source": [
    "%sql SELECT name FROM sqlite_schema WHERE type ='table';"
   ]
  },
  {
   "cell_type": "code",
   "execution_count": null,
   "id": "a04ff139",
   "metadata": {},
   "outputs": [],
   "source": []
  }
 ],
 "metadata": {
  "kernelspec": {
   "display_name": "Python 3 (ipykernel)",
   "language": "python",
   "name": "python3"
  },
  "language_info": {
   "codemirror_mode": {
    "name": "ipython",
    "version": 3
   },
   "file_extension": ".py",
   "mimetype": "text/x-python",
   "name": "python",
   "nbconvert_exporter": "python",
   "pygments_lexer": "ipython3",
   "version": "3.8.11"
  }
 },
 "nbformat": 4,
 "nbformat_minor": 5
}
